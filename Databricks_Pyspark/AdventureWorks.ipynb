{
 "cells": [
  {
   "cell_type": "code",
   "execution_count": 0,
   "metadata": {
    "application/vnd.databricks.v1+cell": {
     "cellMetadata": {
      "byteLimit": 2048000,
      "rowLimit": 10000
     },
     "inputWidgets": {},
     "nuid": "fb79596a-7fd7-4497-a8b8-8fb4a07d42ba",
     "showTitle": false,
     "tableResultSettingsMap": {},
     "title": ""
    }
   },
   "outputs": [],
   "source": [
    "spark.conf.set(\"CONFIG HERE\")"
   ]
  },
  {
   "cell_type": "markdown",
   "metadata": {
    "application/vnd.databricks.v1+cell": {
     "cellMetadata": {
      "byteLimit": 2048000,
      "rowLimit": 10000
     },
     "inputWidgets": {},
     "nuid": "0aa4d262-63b5-4b6a-8f4b-61c48703f2ce",
     "showTitle": false,
     "tableResultSettingsMap": {},
     "title": ""
    }
   },
   "source": [
    "# Read Data From Bronze Layer"
   ]
  },
  {
   "cell_type": "markdown",
   "metadata": {
    "application/vnd.databricks.v1+cell": {
     "cellMetadata": {
      "byteLimit": 2048000,
      "rowLimit": 10000
     },
     "inputWidgets": {},
     "nuid": "64053fab-888e-430d-81ff-1d1ddd8aca42",
     "showTitle": false,
     "tableResultSettingsMap": {},
     "title": ""
    }
   },
   "source": [
    "### Customers data"
   ]
  },
  {
   "cell_type": "code",
   "execution_count": 0,
   "metadata": {
    "application/vnd.databricks.v1+cell": {
     "cellMetadata": {
      "byteLimit": 2048000,
      "rowLimit": 10000
     },
     "inputWidgets": {},
     "nuid": "96900ca1-7eb6-4b26-9ded-0f9b641b7f42",
     "showTitle": false,
     "tableResultSettingsMap": {},
     "title": ""
    }
   },
   "outputs": [],
   "source": [
    "from pyspark.sql.functions import *\n",
    "from pyspark.sql.window import Window"
   ]
  },
  {
   "cell_type": "code",
   "execution_count": 0,
   "metadata": {
    "application/vnd.databricks.v1+cell": {
     "cellMetadata": {
      "byteLimit": 2048000,
      "rowLimit": 10000
     },
     "inputWidgets": {},
     "nuid": "d5a969f3-c288-4ad6-a8cf-2f892951df33",
     "showTitle": false,
     "tableResultSettingsMap": {},
     "title": ""
    }
   },
   "outputs": [
    {
     "output_type": "display_data",
     "data": {
      "text/html": [
       "<style scoped>\n",
       "  .table-result-container {\n",
       "    max-height: 300px;\n",
       "    overflow: auto;\n",
       "  }\n",
       "  table, th, td {\n",
       "    border: 1px solid black;\n",
       "    border-collapse: collapse;\n",
       "  }\n",
       "  th, td {\n",
       "    padding: 5px;\n",
       "  }\n",
       "  th {\n",
       "    text-align: left;\n",
       "  }\n",
       "</style><div class='table-result-container'><table class='table-result'><thead style='background-color: white'><tr><th>CustomerID</th><th>NameStyle</th><th>Title</th><th>FirstName</th><th>MiddleName</th><th>LastName</th><th>Suffix</th><th>CompanyName</th><th>SalesPerson</th><th>EmailAddress</th><th>Phone</th><th>PasswordHash</th><th>PasswordSalt</th><th>rowguid</th><th>ModifiedDate</th></tr></thead><tbody><tr><td>1</td><td>false</td><td>Mr.</td><td>Orlando</td><td>N.</td><td>Gee</td><td>null</td><td>A Bike Store</td><td>adventure-works\\pamela0</td><td>orlando0@adventure-works.com</td><td>245-555-0173</td><td>L/Rlwxzp4w7RWmEgXX+/A7cXaePEPcp+KwQhl2fJL7w=</td><td>1KjXYs4=</td><td>3f5ae95e-b87d-4aed-95b4-c3797afcb74f</td><td>2005-08-01T00:00:00Z</td></tr><tr><td>2</td><td>false</td><td>Mr.</td><td>Keith</td><td>null</td><td>Harris</td><td>null</td><td>Progressive Sports</td><td>adventure-works\\david8</td><td>keith0@adventure-works.com</td><td>170-555-0127</td><td>YPdtRdvqeAhj6wyxEsFdshBDNXxkCXn+CRgbvJItknw=</td><td>fs1ZGhY=</td><td>e552f657-a9af-4a7d-a645-c429d6e02491</td><td>2006-08-01T00:00:00Z</td></tr><tr><td>3</td><td>false</td><td>Ms.</td><td>Donna</td><td>F.</td><td>Carreras</td><td>null</td><td>Advanced Bike Components</td><td>adventure-works\\jillian0</td><td>donna0@adventure-works.com</td><td>279-555-0130</td><td>LNoK27abGQo48gGue3EBV/UrlYSToV0/s87dCRV7uJk=</td><td>YTNH5Rw=</td><td>130774b1-db21-4ef3-98c8-c104bcd6ed6d</td><td>2005-09-01T00:00:00Z</td></tr><tr><td>4</td><td>false</td><td>Ms.</td><td>Janet</td><td>M.</td><td>Gates</td><td>null</td><td>Modular Cycle Systems</td><td>adventure-works\\jillian0</td><td>janet1@adventure-works.com</td><td>710-555-0173</td><td>ElzTpSNbUW1Ut+L5cWlfR7MF6nBZia8WpmGaQPjLOJA=</td><td>nm7D5e4=</td><td>ff862851-1daa-4044-be7c-3e85583c054d</td><td>2006-07-01T00:00:00Z</td></tr><tr><td>5</td><td>false</td><td>Mr.</td><td>Lucy</td><td>null</td><td>Harrington</td><td>null</td><td>Metropolitan Sports Supply</td><td>adventure-works\\shu0</td><td>lucy0@adventure-works.com</td><td>828-555-0186</td><td>KJqV15wsX3PG8TS5GSddp6LFFVdd3CoRftZM/tP0+R4=</td><td>cNFKU4w=</td><td>83905bdc-6f5e-4f71-b162-c98da069f38a</td><td>2006-09-01T00:00:00Z</td></tr></tbody></table></div>"
      ]
     },
     "metadata": {
      "application/vnd.databricks.v1+output": {
       "addedWidgets": {},
       "aggData": [],
       "aggError": "",
       "aggOverflow": false,
       "aggSchema": [],
       "aggSeriesLimitReached": false,
       "aggType": "",
       "arguments": {},
       "columnCustomDisplayInfos": {},
       "data": [
        [
         1,
         false,
         "Mr.",
         "Orlando",
         "N.",
         "Gee",
         null,
         "A Bike Store",
         "adventure-works\\pamela0",
         "orlando0@adventure-works.com",
         "245-555-0173",
         "L/Rlwxzp4w7RWmEgXX+/A7cXaePEPcp+KwQhl2fJL7w=",
         "1KjXYs4=",
         "3f5ae95e-b87d-4aed-95b4-c3797afcb74f",
         "2005-08-01T00:00:00Z"
        ],
        [
         2,
         false,
         "Mr.",
         "Keith",
         null,
         "Harris",
         null,
         "Progressive Sports",
         "adventure-works\\david8",
         "keith0@adventure-works.com",
         "170-555-0127",
         "YPdtRdvqeAhj6wyxEsFdshBDNXxkCXn+CRgbvJItknw=",
         "fs1ZGhY=",
         "e552f657-a9af-4a7d-a645-c429d6e02491",
         "2006-08-01T00:00:00Z"
        ],
        [
         3,
         false,
         "Ms.",
         "Donna",
         "F.",
         "Carreras",
         null,
         "Advanced Bike Components",
         "adventure-works\\jillian0",
         "donna0@adventure-works.com",
         "279-555-0130",
         "LNoK27abGQo48gGue3EBV/UrlYSToV0/s87dCRV7uJk=",
         "YTNH5Rw=",
         "130774b1-db21-4ef3-98c8-c104bcd6ed6d",
         "2005-09-01T00:00:00Z"
        ],
        [
         4,
         false,
         "Ms.",
         "Janet",
         "M.",
         "Gates",
         null,
         "Modular Cycle Systems",
         "adventure-works\\jillian0",
         "janet1@adventure-works.com",
         "710-555-0173",
         "ElzTpSNbUW1Ut+L5cWlfR7MF6nBZia8WpmGaQPjLOJA=",
         "nm7D5e4=",
         "ff862851-1daa-4044-be7c-3e85583c054d",
         "2006-07-01T00:00:00Z"
        ],
        [
         5,
         false,
         "Mr.",
         "Lucy",
         null,
         "Harrington",
         null,
         "Metropolitan Sports Supply",
         "adventure-works\\shu0",
         "lucy0@adventure-works.com",
         "828-555-0186",
         "KJqV15wsX3PG8TS5GSddp6LFFVdd3CoRftZM/tP0+R4=",
         "cNFKU4w=",
         "83905bdc-6f5e-4f71-b162-c98da069f38a",
         "2006-09-01T00:00:00Z"
        ]
       ],
       "datasetInfos": [],
       "dbfsResultPath": null,
       "isJsonSchema": true,
       "metadata": {},
       "overflow": false,
       "plotOptions": {
        "customPlotOptions": {},
        "displayType": "table",
        "pivotAggregation": null,
        "pivotColumns": null,
        "xColumns": null,
        "yColumns": null
       },
       "removedWidgets": [],
       "schema": [
        {
         "metadata": "{}",
         "name": "CustomerID",
         "type": "\"integer\""
        },
        {
         "metadata": "{}",
         "name": "NameStyle",
         "type": "\"boolean\""
        },
        {
         "metadata": "{}",
         "name": "Title",
         "type": "\"string\""
        },
        {
         "metadata": "{}",
         "name": "FirstName",
         "type": "\"string\""
        },
        {
         "metadata": "{}",
         "name": "MiddleName",
         "type": "\"string\""
        },
        {
         "metadata": "{}",
         "name": "LastName",
         "type": "\"string\""
        },
        {
         "metadata": "{}",
         "name": "Suffix",
         "type": "\"string\""
        },
        {
         "metadata": "{}",
         "name": "CompanyName",
         "type": "\"string\""
        },
        {
         "metadata": "{}",
         "name": "SalesPerson",
         "type": "\"string\""
        },
        {
         "metadata": "{}",
         "name": "EmailAddress",
         "type": "\"string\""
        },
        {
         "metadata": "{}",
         "name": "Phone",
         "type": "\"string\""
        },
        {
         "metadata": "{}",
         "name": "PasswordHash",
         "type": "\"string\""
        },
        {
         "metadata": "{}",
         "name": "PasswordSalt",
         "type": "\"string\""
        },
        {
         "metadata": "{}",
         "name": "rowguid",
         "type": "\"string\""
        },
        {
         "metadata": "{}",
         "name": "ModifiedDate",
         "type": "\"timestamp\""
        }
       ],
       "type": "table"
      }
     },
     "output_type": "display_data"
    }
   ],
   "source": [
    "df_customer = spark.read.csv(\"abfss://bronze@dlpracticenajeeb.dfs.core.windows.net/SalesLT/Customer.csv\", header=True, inferSchema=True)\n",
    "df_customer.limit(5).display()"
   ]
  },
  {
   "cell_type": "markdown",
   "metadata": {
    "application/vnd.databricks.v1+cell": {
     "cellMetadata": {
      "byteLimit": 2048000,
      "rowLimit": 10000
     },
     "inputWidgets": {},
     "nuid": "d27b759a-dcc0-4698-8da6-a09bfd84428d",
     "showTitle": false,
     "tableResultSettingsMap": {},
     "title": ""
    }
   },
   "source": [
    "#### Drop Columns"
   ]
  },
  {
   "cell_type": "code",
   "execution_count": 0,
   "metadata": {
    "application/vnd.databricks.v1+cell": {
     "cellMetadata": {
      "byteLimit": 2048000,
      "rowLimit": 10000
     },
     "inputWidgets": {},
     "nuid": "85fc955c-59c4-4ce0-aa04-b72c8c080184",
     "showTitle": false,
     "tableResultSettingsMap": {},
     "title": ""
    }
   },
   "outputs": [
    {
     "output_type": "display_data",
     "data": {
      "text/html": [
       "<style scoped>\n",
       "  .table-result-container {\n",
       "    max-height: 300px;\n",
       "    overflow: auto;\n",
       "  }\n",
       "  table, th, td {\n",
       "    border: 1px solid black;\n",
       "    border-collapse: collapse;\n",
       "  }\n",
       "  th, td {\n",
       "    padding: 5px;\n",
       "  }\n",
       "  th {\n",
       "    text-align: left;\n",
       "  }\n",
       "</style><div class='table-result-container'><table class='table-result'><thead style='background-color: white'><tr><th>CustomerID</th><th>Title</th><th>FirstName</th><th>MiddleName</th><th>LastName</th><th>CompanyName</th><th>SalesPerson</th><th>EmailAddress</th><th>Phone</th><th>ModifiedDate</th></tr></thead><tbody><tr><td>1</td><td>Mr.</td><td>Orlando</td><td>N.</td><td>Gee</td><td>A Bike Store</td><td>adventure-works\\pamela0</td><td>orlando0@adventure-works.com</td><td>245-555-0173</td><td>2005-08-01T00:00:00Z</td></tr><tr><td>2</td><td>Mr.</td><td>Keith</td><td>null</td><td>Harris</td><td>Progressive Sports</td><td>adventure-works\\david8</td><td>keith0@adventure-works.com</td><td>170-555-0127</td><td>2006-08-01T00:00:00Z</td></tr><tr><td>3</td><td>Ms.</td><td>Donna</td><td>F.</td><td>Carreras</td><td>Advanced Bike Components</td><td>adventure-works\\jillian0</td><td>donna0@adventure-works.com</td><td>279-555-0130</td><td>2005-09-01T00:00:00Z</td></tr><tr><td>4</td><td>Ms.</td><td>Janet</td><td>M.</td><td>Gates</td><td>Modular Cycle Systems</td><td>adventure-works\\jillian0</td><td>janet1@adventure-works.com</td><td>710-555-0173</td><td>2006-07-01T00:00:00Z</td></tr><tr><td>5</td><td>Mr.</td><td>Lucy</td><td>null</td><td>Harrington</td><td>Metropolitan Sports Supply</td><td>adventure-works\\shu0</td><td>lucy0@adventure-works.com</td><td>828-555-0186</td><td>2006-09-01T00:00:00Z</td></tr></tbody></table></div>"
      ]
     },
     "metadata": {
      "application/vnd.databricks.v1+output": {
       "addedWidgets": {},
       "aggData": [],
       "aggError": "",
       "aggOverflow": false,
       "aggSchema": [],
       "aggSeriesLimitReached": false,
       "aggType": "",
       "arguments": {},
       "columnCustomDisplayInfos": {},
       "data": [
        [
         1,
         "Mr.",
         "Orlando",
         "N.",
         "Gee",
         "A Bike Store",
         "adventure-works\\pamela0",
         "orlando0@adventure-works.com",
         "245-555-0173",
         "2005-08-01T00:00:00Z"
        ],
        [
         2,
         "Mr.",
         "Keith",
         null,
         "Harris",
         "Progressive Sports",
         "adventure-works\\david8",
         "keith0@adventure-works.com",
         "170-555-0127",
         "2006-08-01T00:00:00Z"
        ],
        [
         3,
         "Ms.",
         "Donna",
         "F.",
         "Carreras",
         "Advanced Bike Components",
         "adventure-works\\jillian0",
         "donna0@adventure-works.com",
         "279-555-0130",
         "2005-09-01T00:00:00Z"
        ],
        [
         4,
         "Ms.",
         "Janet",
         "M.",
         "Gates",
         "Modular Cycle Systems",
         "adventure-works\\jillian0",
         "janet1@adventure-works.com",
         "710-555-0173",
         "2006-07-01T00:00:00Z"
        ],
        [
         5,
         "Mr.",
         "Lucy",
         null,
         "Harrington",
         "Metropolitan Sports Supply",
         "adventure-works\\shu0",
         "lucy0@adventure-works.com",
         "828-555-0186",
         "2006-09-01T00:00:00Z"
        ]
       ],
       "datasetInfos": [],
       "dbfsResultPath": null,
       "isJsonSchema": true,
       "metadata": {},
       "overflow": false,
       "plotOptions": {
        "customPlotOptions": {},
        "displayType": "table",
        "pivotAggregation": null,
        "pivotColumns": null,
        "xColumns": null,
        "yColumns": null
       },
       "removedWidgets": [],
       "schema": [
        {
         "metadata": "{}",
         "name": "CustomerID",
         "type": "\"integer\""
        },
        {
         "metadata": "{}",
         "name": "Title",
         "type": "\"string\""
        },
        {
         "metadata": "{}",
         "name": "FirstName",
         "type": "\"string\""
        },
        {
         "metadata": "{}",
         "name": "MiddleName",
         "type": "\"string\""
        },
        {
         "metadata": "{}",
         "name": "LastName",
         "type": "\"string\""
        },
        {
         "metadata": "{}",
         "name": "CompanyName",
         "type": "\"string\""
        },
        {
         "metadata": "{}",
         "name": "SalesPerson",
         "type": "\"string\""
        },
        {
         "metadata": "{}",
         "name": "EmailAddress",
         "type": "\"string\""
        },
        {
         "metadata": "{}",
         "name": "Phone",
         "type": "\"string\""
        },
        {
         "metadata": "{}",
         "name": "ModifiedDate",
         "type": "\"timestamp\""
        }
       ],
       "type": "table"
      }
     },
     "output_type": "display_data"
    }
   ],
   "source": [
    "df_customer = df_customer.drop('PasswordHash', 'PasswordSalt', 'NameStyle', 'Suffix', 'rowguid')\n",
    "df_customer.limit(5).display()"
   ]
  },
  {
   "cell_type": "markdown",
   "metadata": {
    "application/vnd.databricks.v1+cell": {
     "cellMetadata": {
      "byteLimit": 2048000,
      "rowLimit": 10000
     },
     "inputWidgets": {},
     "nuid": "223b80d8-6f37-4508-abb7-42c2b7c6481d",
     "showTitle": false,
     "tableResultSettingsMap": {},
     "title": ""
    }
   },
   "source": [
    "#### Replace Null value in Middles name"
   ]
  },
  {
   "cell_type": "code",
   "execution_count": 0,
   "metadata": {
    "application/vnd.databricks.v1+cell": {
     "cellMetadata": {
      "byteLimit": 2048000,
      "rowLimit": 10000
     },
     "inputWidgets": {},
     "nuid": "ac6d4c1d-9f72-4439-8bdd-b4496f30c67d",
     "showTitle": false,
     "tableResultSettingsMap": {},
     "title": ""
    }
   },
   "outputs": [
    {
     "output_type": "display_data",
     "data": {
      "text/html": [
       "<style scoped>\n",
       "  .table-result-container {\n",
       "    max-height: 300px;\n",
       "    overflow: auto;\n",
       "  }\n",
       "  table, th, td {\n",
       "    border: 1px solid black;\n",
       "    border-collapse: collapse;\n",
       "  }\n",
       "  th, td {\n",
       "    padding: 5px;\n",
       "  }\n",
       "  th {\n",
       "    text-align: left;\n",
       "  }\n",
       "</style><div class='table-result-container'><table class='table-result'><thead style='background-color: white'><tr><th>CustomerID</th><th>Title</th><th>FirstName</th><th>MiddleName</th><th>LastName</th><th>CompanyName</th><th>SalesPerson</th><th>EmailAddress</th><th>Phone</th><th>ModifiedDate</th></tr></thead><tbody><tr><td>1</td><td>Mr.</td><td>Orlando</td><td>N.</td><td>Gee</td><td>A Bike Store</td><td>adventure-works\\pamela0</td><td>orlando0@adventure-works.com</td><td>245-555-0173</td><td>2005-08-01T00:00:00Z</td></tr><tr><td>2</td><td>Mr.</td><td>Keith</td><td>No Middle Name</td><td>Harris</td><td>Progressive Sports</td><td>adventure-works\\david8</td><td>keith0@adventure-works.com</td><td>170-555-0127</td><td>2006-08-01T00:00:00Z</td></tr><tr><td>3</td><td>Ms.</td><td>Donna</td><td>F.</td><td>Carreras</td><td>Advanced Bike Components</td><td>adventure-works\\jillian0</td><td>donna0@adventure-works.com</td><td>279-555-0130</td><td>2005-09-01T00:00:00Z</td></tr><tr><td>4</td><td>Ms.</td><td>Janet</td><td>M.</td><td>Gates</td><td>Modular Cycle Systems</td><td>adventure-works\\jillian0</td><td>janet1@adventure-works.com</td><td>710-555-0173</td><td>2006-07-01T00:00:00Z</td></tr><tr><td>5</td><td>Mr.</td><td>Lucy</td><td>No Middle Name</td><td>Harrington</td><td>Metropolitan Sports Supply</td><td>adventure-works\\shu0</td><td>lucy0@adventure-works.com</td><td>828-555-0186</td><td>2006-09-01T00:00:00Z</td></tr></tbody></table></div>"
      ]
     },
     "metadata": {
      "application/vnd.databricks.v1+output": {
       "addedWidgets": {},
       "aggData": [],
       "aggError": "",
       "aggOverflow": false,
       "aggSchema": [],
       "aggSeriesLimitReached": false,
       "aggType": "",
       "arguments": {},
       "columnCustomDisplayInfos": {},
       "data": [
        [
         1,
         "Mr.",
         "Orlando",
         "N.",
         "Gee",
         "A Bike Store",
         "adventure-works\\pamela0",
         "orlando0@adventure-works.com",
         "245-555-0173",
         "2005-08-01T00:00:00Z"
        ],
        [
         2,
         "Mr.",
         "Keith",
         "No Middle Name",
         "Harris",
         "Progressive Sports",
         "adventure-works\\david8",
         "keith0@adventure-works.com",
         "170-555-0127",
         "2006-08-01T00:00:00Z"
        ],
        [
         3,
         "Ms.",
         "Donna",
         "F.",
         "Carreras",
         "Advanced Bike Components",
         "adventure-works\\jillian0",
         "donna0@adventure-works.com",
         "279-555-0130",
         "2005-09-01T00:00:00Z"
        ],
        [
         4,
         "Ms.",
         "Janet",
         "M.",
         "Gates",
         "Modular Cycle Systems",
         "adventure-works\\jillian0",
         "janet1@adventure-works.com",
         "710-555-0173",
         "2006-07-01T00:00:00Z"
        ],
        [
         5,
         "Mr.",
         "Lucy",
         "No Middle Name",
         "Harrington",
         "Metropolitan Sports Supply",
         "adventure-works\\shu0",
         "lucy0@adventure-works.com",
         "828-555-0186",
         "2006-09-01T00:00:00Z"
        ]
       ],
       "datasetInfos": [],
       "dbfsResultPath": null,
       "isJsonSchema": true,
       "metadata": {},
       "overflow": false,
       "plotOptions": {
        "customPlotOptions": {},
        "displayType": "table",
        "pivotAggregation": null,
        "pivotColumns": null,
        "xColumns": null,
        "yColumns": null
       },
       "removedWidgets": [],
       "schema": [
        {
         "metadata": "{}",
         "name": "CustomerID",
         "type": "\"integer\""
        },
        {
         "metadata": "{}",
         "name": "Title",
         "type": "\"string\""
        },
        {
         "metadata": "{}",
         "name": "FirstName",
         "type": "\"string\""
        },
        {
         "metadata": "{}",
         "name": "MiddleName",
         "type": "\"string\""
        },
        {
         "metadata": "{}",
         "name": "LastName",
         "type": "\"string\""
        },
        {
         "metadata": "{}",
         "name": "CompanyName",
         "type": "\"string\""
        },
        {
         "metadata": "{}",
         "name": "SalesPerson",
         "type": "\"string\""
        },
        {
         "metadata": "{}",
         "name": "EmailAddress",
         "type": "\"string\""
        },
        {
         "metadata": "{}",
         "name": "Phone",
         "type": "\"string\""
        },
        {
         "metadata": "{}",
         "name": "ModifiedDate",
         "type": "\"timestamp\""
        }
       ],
       "type": "table"
      }
     },
     "output_type": "display_data"
    }
   ],
   "source": [
    "df_customer = df_customer.fillna('No Middle Name', subset=['MiddleName'])\n",
    "df_customer.limit(5).display()"
   ]
  },
  {
   "cell_type": "markdown",
   "metadata": {
    "application/vnd.databricks.v1+cell": {
     "cellMetadata": {
      "byteLimit": 2048000,
      "rowLimit": 10000
     },
     "inputWidgets": {},
     "nuid": "f17703d9-8acc-4366-a3d9-2eb8873706f6",
     "showTitle": false,
     "tableResultSettingsMap": {},
     "title": ""
    }
   },
   "source": [
    "#### Split the Sales person column with \\ delimiter to get the sales person name\n"
   ]
  },
  {
   "cell_type": "code",
   "execution_count": 0,
   "metadata": {
    "application/vnd.databricks.v1+cell": {
     "cellMetadata": {
      "byteLimit": 2048000,
      "rowLimit": 10000
     },
     "inputWidgets": {},
     "nuid": "7449e4c2-6ec3-4ab7-8533-976e913ce5be",
     "showTitle": false,
     "tableResultSettingsMap": {},
     "title": ""
    }
   },
   "outputs": [
    {
     "output_type": "display_data",
     "data": {
      "text/html": [
       "<style scoped>\n",
       "  .table-result-container {\n",
       "    max-height: 300px;\n",
       "    overflow: auto;\n",
       "  }\n",
       "  table, th, td {\n",
       "    border: 1px solid black;\n",
       "    border-collapse: collapse;\n",
       "  }\n",
       "  th, td {\n",
       "    padding: 5px;\n",
       "  }\n",
       "  th {\n",
       "    text-align: left;\n",
       "  }\n",
       "</style><div class='table-result-container'><table class='table-result'><thead style='background-color: white'><tr><th>CustomerID</th><th>Title</th><th>FirstName</th><th>MiddleName</th><th>LastName</th><th>CompanyName</th><th>SalesPerson</th><th>EmailAddress</th><th>Phone</th><th>ModifiedDate</th></tr></thead><tbody><tr><td>1</td><td>Mr.</td><td>Orlando</td><td>N.</td><td>Gee</td><td>A Bike Store</td><td>pamela0</td><td>orlando0@adventure-works.com</td><td>245-555-0173</td><td>2005-08-01T00:00:00Z</td></tr><tr><td>2</td><td>Mr.</td><td>Keith</td><td>No Middle Name</td><td>Harris</td><td>Progressive Sports</td><td>david8</td><td>keith0@adventure-works.com</td><td>170-555-0127</td><td>2006-08-01T00:00:00Z</td></tr><tr><td>3</td><td>Ms.</td><td>Donna</td><td>F.</td><td>Carreras</td><td>Advanced Bike Components</td><td>jillian0</td><td>donna0@adventure-works.com</td><td>279-555-0130</td><td>2005-09-01T00:00:00Z</td></tr><tr><td>4</td><td>Ms.</td><td>Janet</td><td>M.</td><td>Gates</td><td>Modular Cycle Systems</td><td>jillian0</td><td>janet1@adventure-works.com</td><td>710-555-0173</td><td>2006-07-01T00:00:00Z</td></tr><tr><td>5</td><td>Mr.</td><td>Lucy</td><td>No Middle Name</td><td>Harrington</td><td>Metropolitan Sports Supply</td><td>shu0</td><td>lucy0@adventure-works.com</td><td>828-555-0186</td><td>2006-09-01T00:00:00Z</td></tr></tbody></table></div>"
      ]
     },
     "metadata": {
      "application/vnd.databricks.v1+output": {
       "addedWidgets": {},
       "aggData": [],
       "aggError": "",
       "aggOverflow": false,
       "aggSchema": [],
       "aggSeriesLimitReached": false,
       "aggType": "",
       "arguments": {},
       "columnCustomDisplayInfos": {},
       "data": [
        [
         1,
         "Mr.",
         "Orlando",
         "N.",
         "Gee",
         "A Bike Store",
         "pamela0",
         "orlando0@adventure-works.com",
         "245-555-0173",
         "2005-08-01T00:00:00Z"
        ],
        [
         2,
         "Mr.",
         "Keith",
         "No Middle Name",
         "Harris",
         "Progressive Sports",
         "david8",
         "keith0@adventure-works.com",
         "170-555-0127",
         "2006-08-01T00:00:00Z"
        ],
        [
         3,
         "Ms.",
         "Donna",
         "F.",
         "Carreras",
         "Advanced Bike Components",
         "jillian0",
         "donna0@adventure-works.com",
         "279-555-0130",
         "2005-09-01T00:00:00Z"
        ],
        [
         4,
         "Ms.",
         "Janet",
         "M.",
         "Gates",
         "Modular Cycle Systems",
         "jillian0",
         "janet1@adventure-works.com",
         "710-555-0173",
         "2006-07-01T00:00:00Z"
        ],
        [
         5,
         "Mr.",
         "Lucy",
         "No Middle Name",
         "Harrington",
         "Metropolitan Sports Supply",
         "shu0",
         "lucy0@adventure-works.com",
         "828-555-0186",
         "2006-09-01T00:00:00Z"
        ]
       ],
       "datasetInfos": [],
       "dbfsResultPath": null,
       "isJsonSchema": true,
       "metadata": {},
       "overflow": false,
       "plotOptions": {
        "customPlotOptions": {},
        "displayType": "table",
        "pivotAggregation": null,
        "pivotColumns": null,
        "xColumns": null,
        "yColumns": null
       },
       "removedWidgets": [],
       "schema": [
        {
         "metadata": "{}",
         "name": "CustomerID",
         "type": "\"integer\""
        },
        {
         "metadata": "{}",
         "name": "Title",
         "type": "\"string\""
        },
        {
         "metadata": "{}",
         "name": "FirstName",
         "type": "\"string\""
        },
        {
         "metadata": "{}",
         "name": "MiddleName",
         "type": "\"string\""
        },
        {
         "metadata": "{}",
         "name": "LastName",
         "type": "\"string\""
        },
        {
         "metadata": "{}",
         "name": "CompanyName",
         "type": "\"string\""
        },
        {
         "metadata": "{}",
         "name": "SalesPerson",
         "type": "\"string\""
        },
        {
         "metadata": "{}",
         "name": "EmailAddress",
         "type": "\"string\""
        },
        {
         "metadata": "{}",
         "name": "Phone",
         "type": "\"string\""
        },
        {
         "metadata": "{}",
         "name": "ModifiedDate",
         "type": "\"timestamp\""
        }
       ],
       "type": "table"
      }
     },
     "output_type": "display_data"
    }
   ],
   "source": [
    "df_customer = df_customer.withColumn('SalesPerson', split('SalesPerson', '\\\\\\\\')[1])\n",
    "df_customer.limit(5).display()"
   ]
  },
  {
   "cell_type": "markdown",
   "metadata": {
    "application/vnd.databricks.v1+cell": {
     "cellMetadata": {
      "byteLimit": 2048000,
      "rowLimit": 10000
     },
     "inputWidgets": {},
     "nuid": "7364269a-ee79-4fc7-8595-9820790f02bc",
     "showTitle": false,
     "tableResultSettingsMap": {},
     "title": ""
    }
   },
   "source": [
    "#### Change Date Format"
   ]
  },
  {
   "cell_type": "code",
   "execution_count": 0,
   "metadata": {
    "application/vnd.databricks.v1+cell": {
     "cellMetadata": {
      "byteLimit": 2048000,
      "rowLimit": 10000
     },
     "inputWidgets": {},
     "nuid": "79c0ce74-18ad-42c6-a1b0-9a7283786213",
     "showTitle": false,
     "tableResultSettingsMap": {},
     "title": ""
    }
   },
   "outputs": [
    {
     "output_type": "display_data",
     "data": {
      "text/html": [
       "<style scoped>\n",
       "  .table-result-container {\n",
       "    max-height: 300px;\n",
       "    overflow: auto;\n",
       "  }\n",
       "  table, th, td {\n",
       "    border: 1px solid black;\n",
       "    border-collapse: collapse;\n",
       "  }\n",
       "  th, td {\n",
       "    padding: 5px;\n",
       "  }\n",
       "  th {\n",
       "    text-align: left;\n",
       "  }\n",
       "</style><div class='table-result-container'><table class='table-result'><thead style='background-color: white'><tr><th>CustomerID</th><th>Title</th><th>FirstName</th><th>MiddleName</th><th>LastName</th><th>CompanyName</th><th>SalesPerson</th><th>EmailAddress</th><th>Phone</th><th>ModifiedDate</th></tr></thead><tbody><tr><td>1</td><td>Mr.</td><td>Orlando</td><td>N.</td><td>Gee</td><td>A Bike Store</td><td>pamela0</td><td>orlando0@adventure-works.com</td><td>245-555-0173</td><td>01/08/2005</td></tr><tr><td>2</td><td>Mr.</td><td>Keith</td><td>No Middle Name</td><td>Harris</td><td>Progressive Sports</td><td>david8</td><td>keith0@adventure-works.com</td><td>170-555-0127</td><td>01/08/2006</td></tr><tr><td>3</td><td>Ms.</td><td>Donna</td><td>F.</td><td>Carreras</td><td>Advanced Bike Components</td><td>jillian0</td><td>donna0@adventure-works.com</td><td>279-555-0130</td><td>01/09/2005</td></tr><tr><td>4</td><td>Ms.</td><td>Janet</td><td>M.</td><td>Gates</td><td>Modular Cycle Systems</td><td>jillian0</td><td>janet1@adventure-works.com</td><td>710-555-0173</td><td>01/07/2006</td></tr><tr><td>5</td><td>Mr.</td><td>Lucy</td><td>No Middle Name</td><td>Harrington</td><td>Metropolitan Sports Supply</td><td>shu0</td><td>lucy0@adventure-works.com</td><td>828-555-0186</td><td>01/09/2006</td></tr></tbody></table></div>"
      ]
     },
     "metadata": {
      "application/vnd.databricks.v1+output": {
       "addedWidgets": {},
       "aggData": [],
       "aggError": "",
       "aggOverflow": false,
       "aggSchema": [],
       "aggSeriesLimitReached": false,
       "aggType": "",
       "arguments": {},
       "columnCustomDisplayInfos": {},
       "data": [
        [
         1,
         "Mr.",
         "Orlando",
         "N.",
         "Gee",
         "A Bike Store",
         "pamela0",
         "orlando0@adventure-works.com",
         "245-555-0173",
         "01/08/2005"
        ],
        [
         2,
         "Mr.",
         "Keith",
         "No Middle Name",
         "Harris",
         "Progressive Sports",
         "david8",
         "keith0@adventure-works.com",
         "170-555-0127",
         "01/08/2006"
        ],
        [
         3,
         "Ms.",
         "Donna",
         "F.",
         "Carreras",
         "Advanced Bike Components",
         "jillian0",
         "donna0@adventure-works.com",
         "279-555-0130",
         "01/09/2005"
        ],
        [
         4,
         "Ms.",
         "Janet",
         "M.",
         "Gates",
         "Modular Cycle Systems",
         "jillian0",
         "janet1@adventure-works.com",
         "710-555-0173",
         "01/07/2006"
        ],
        [
         5,
         "Mr.",
         "Lucy",
         "No Middle Name",
         "Harrington",
         "Metropolitan Sports Supply",
         "shu0",
         "lucy0@adventure-works.com",
         "828-555-0186",
         "01/09/2006"
        ]
       ],
       "datasetInfos": [],
       "dbfsResultPath": null,
       "isJsonSchema": true,
       "metadata": {},
       "overflow": false,
       "plotOptions": {
        "customPlotOptions": {},
        "displayType": "table",
        "pivotAggregation": null,
        "pivotColumns": null,
        "xColumns": null,
        "yColumns": null
       },
       "removedWidgets": [],
       "schema": [
        {
         "metadata": "{}",
         "name": "CustomerID",
         "type": "\"integer\""
        },
        {
         "metadata": "{}",
         "name": "Title",
         "type": "\"string\""
        },
        {
         "metadata": "{}",
         "name": "FirstName",
         "type": "\"string\""
        },
        {
         "metadata": "{}",
         "name": "MiddleName",
         "type": "\"string\""
        },
        {
         "metadata": "{}",
         "name": "LastName",
         "type": "\"string\""
        },
        {
         "metadata": "{}",
         "name": "CompanyName",
         "type": "\"string\""
        },
        {
         "metadata": "{}",
         "name": "SalesPerson",
         "type": "\"string\""
        },
        {
         "metadata": "{}",
         "name": "EmailAddress",
         "type": "\"string\""
        },
        {
         "metadata": "{}",
         "name": "Phone",
         "type": "\"string\""
        },
        {
         "metadata": "{}",
         "name": "ModifiedDate",
         "type": "\"string\""
        }
       ],
       "type": "table"
      }
     },
     "output_type": "display_data"
    }
   ],
   "source": [
    "df_customer = df_customer.withColumn('ModifiedDate', date_format('ModifiedDate', 'dd/MM/yyyy'))\n",
    "df_customer.limit(5).display()"
   ]
  },
  {
   "cell_type": "markdown",
   "metadata": {
    "application/vnd.databricks.v1+cell": {
     "cellMetadata": {
      "byteLimit": 2048000,
      "rowLimit": 10000
     },
     "inputWidgets": {},
     "nuid": "0080e29c-aa46-4660-8798-e4e728330127",
     "showTitle": false,
     "tableResultSettingsMap": {},
     "title": ""
    }
   },
   "source": [
    "#### Check if there is any Nulls in data"
   ]
  },
  {
   "cell_type": "code",
   "execution_count": 0,
   "metadata": {
    "application/vnd.databricks.v1+cell": {
     "cellMetadata": {
      "byteLimit": 2048000,
      "rowLimit": 10000
     },
     "inputWidgets": {},
     "nuid": "cc3afc14-8f4f-4a5d-992b-9f99764092ef",
     "showTitle": false,
     "tableResultSettingsMap": {},
     "title": ""
    }
   },
   "outputs": [
    {
     "output_type": "display_data",
     "data": {
      "text/html": [
       "<style scoped>\n",
       "  .table-result-container {\n",
       "    max-height: 300px;\n",
       "    overflow: auto;\n",
       "  }\n",
       "  table, th, td {\n",
       "    border: 1px solid black;\n",
       "    border-collapse: collapse;\n",
       "  }\n",
       "  th, td {\n",
       "    padding: 5px;\n",
       "  }\n",
       "  th {\n",
       "    text-align: left;\n",
       "  }\n",
       "</style><div class='table-result-container'><table class='table-result'><thead style='background-color: white'><tr><th>CustomerID</th><th>Title</th><th>FirstName</th><th>MiddleName</th><th>LastName</th><th>CompanyName</th><th>SalesPerson</th><th>EmailAddress</th><th>Phone</th><th>ModifiedDate</th></tr></thead><tbody><tr><td>0</td><td>7</td><td>0</td><td>0</td><td>0</td><td>0</td><td>0</td><td>0</td><td>0</td><td>0</td></tr></tbody></table></div>"
      ]
     },
     "metadata": {
      "application/vnd.databricks.v1+output": {
       "addedWidgets": {},
       "aggData": [],
       "aggError": "",
       "aggOverflow": false,
       "aggSchema": [],
       "aggSeriesLimitReached": false,
       "aggType": "",
       "arguments": {},
       "columnCustomDisplayInfos": {},
       "data": [
        [
         0,
         7,
         0,
         0,
         0,
         0,
         0,
         0,
         0,
         0
        ]
       ],
       "datasetInfos": [],
       "dbfsResultPath": null,
       "isJsonSchema": true,
       "metadata": {},
       "overflow": false,
       "plotOptions": {
        "customPlotOptions": {},
        "displayType": "table",
        "pivotAggregation": null,
        "pivotColumns": null,
        "xColumns": null,
        "yColumns": null
       },
       "removedWidgets": [],
       "schema": [
        {
         "metadata": "{}",
         "name": "CustomerID",
         "type": "\"long\""
        },
        {
         "metadata": "{}",
         "name": "Title",
         "type": "\"long\""
        },
        {
         "metadata": "{}",
         "name": "FirstName",
         "type": "\"long\""
        },
        {
         "metadata": "{}",
         "name": "MiddleName",
         "type": "\"long\""
        },
        {
         "metadata": "{}",
         "name": "LastName",
         "type": "\"long\""
        },
        {
         "metadata": "{}",
         "name": "CompanyName",
         "type": "\"long\""
        },
        {
         "metadata": "{}",
         "name": "SalesPerson",
         "type": "\"long\""
        },
        {
         "metadata": "{}",
         "name": "EmailAddress",
         "type": "\"long\""
        },
        {
         "metadata": "{}",
         "name": "Phone",
         "type": "\"long\""
        },
        {
         "metadata": "{}",
         "name": "ModifiedDate",
         "type": "\"long\""
        }
       ],
       "type": "table"
      }
     },
     "output_type": "display_data"
    }
   ],
   "source": [
    "df_customer.select([\n",
    "    sum(col(c).isNull().cast('int')).alias(c) for c in df_customer.columns\n",
    "]).display()"
   ]
  },
  {
   "cell_type": "markdown",
   "metadata": {
    "application/vnd.databricks.v1+cell": {
     "cellMetadata": {
      "byteLimit": 2048000,
      "rowLimit": 10000
     },
     "inputWidgets": {},
     "nuid": "7d8d7cad-060c-482b-b461-47fc7220d38f",
     "showTitle": false,
     "tableResultSettingsMap": {},
     "title": ""
    }
   },
   "source": [
    "#### Check how many time a Title is repeated"
   ]
  },
  {
   "cell_type": "code",
   "execution_count": 0,
   "metadata": {
    "application/vnd.databricks.v1+cell": {
     "cellMetadata": {
      "byteLimit": 2048000,
      "rowLimit": 10000
     },
     "inputWidgets": {},
     "nuid": "ecf45301-e4f0-44cd-a8e4-1127dc6dbecc",
     "showTitle": false,
     "tableResultSettingsMap": {},
     "title": ""
    }
   },
   "outputs": [
    {
     "output_type": "display_data",
     "data": {
      "text/html": [
       "<style scoped>\n",
       "  .table-result-container {\n",
       "    max-height: 300px;\n",
       "    overflow: auto;\n",
       "  }\n",
       "  table, th, td {\n",
       "    border: 1px solid black;\n",
       "    border-collapse: collapse;\n",
       "  }\n",
       "  th, td {\n",
       "    padding: 5px;\n",
       "  }\n",
       "  th {\n",
       "    text-align: left;\n",
       "  }\n",
       "</style><div class='table-result-container'><table class='table-result'><thead style='background-color: white'><tr><th>Title</th><th>count</th></tr></thead><tbody><tr><td>Mr.</td><td>490</td></tr><tr><td>Ms.</td><td>340</td></tr><tr><td>null</td><td>7</td></tr><tr><td>Sr.</td><td>6</td></tr><tr><td>Sra.</td><td>4</td></tr></tbody></table></div>"
      ]
     },
     "metadata": {
      "application/vnd.databricks.v1+output": {
       "addedWidgets": {},
       "aggData": [],
       "aggError": "",
       "aggOverflow": false,
       "aggSchema": [],
       "aggSeriesLimitReached": false,
       "aggType": "",
       "arguments": {},
       "columnCustomDisplayInfos": {},
       "data": [
        [
         "Mr.",
         490
        ],
        [
         "Ms.",
         340
        ],
        [
         null,
         7
        ],
        [
         "Sr.",
         6
        ],
        [
         "Sra.",
         4
        ]
       ],
       "datasetInfos": [],
       "dbfsResultPath": null,
       "isJsonSchema": true,
       "metadata": {},
       "overflow": false,
       "plotOptions": {
        "customPlotOptions": {},
        "displayType": "table",
        "pivotAggregation": null,
        "pivotColumns": null,
        "xColumns": null,
        "yColumns": null
       },
       "removedWidgets": [],
       "schema": [
        {
         "metadata": "{}",
         "name": "Title",
         "type": "\"string\""
        },
        {
         "metadata": "{}",
         "name": "count",
         "type": "\"long\""
        }
       ],
       "type": "table"
      }
     },
     "output_type": "display_data"
    }
   ],
   "source": [
    "df_customer.groupBy('Title').count().orderBy('count', ascending=False).display()"
   ]
  },
  {
   "cell_type": "markdown",
   "metadata": {
    "application/vnd.databricks.v1+cell": {
     "cellMetadata": {
      "byteLimit": 2048000,
      "rowLimit": 10000
     },
     "inputWidgets": {},
     "nuid": "385b1511-4d17-4a21-b11e-f8bea554156d",
     "showTitle": false,
     "tableResultSettingsMap": {},
     "title": ""
    }
   },
   "source": [
    "#### Create a Gender Column by Using title Column"
   ]
  },
  {
   "cell_type": "code",
   "execution_count": 0,
   "metadata": {
    "application/vnd.databricks.v1+cell": {
     "cellMetadata": {
      "byteLimit": 2048000,
      "rowLimit": 10000
     },
     "inputWidgets": {},
     "nuid": "2db33e36-012b-418f-a6ed-df7e21527937",
     "showTitle": false,
     "tableResultSettingsMap": {},
     "title": ""
    }
   },
   "outputs": [],
   "source": [
    "df_customer = df_customer.withColumn('Gender', when(col('Title').isin(['Ms.', 'Sra.']), 'Female')\\\n",
    "    .when(col('Title').isNull(), 'Undefined')\\\n",
    "    .otherwise('Male'))"
   ]
  },
  {
   "cell_type": "code",
   "execution_count": 0,
   "metadata": {
    "application/vnd.databricks.v1+cell": {
     "cellMetadata": {
      "byteLimit": 2048000,
      "rowLimit": 10000
     },
     "inputWidgets": {},
     "nuid": "f4ab632b-ef6b-4c9c-842f-7d8b195c90e7",
     "showTitle": false,
     "tableResultSettingsMap": {},
     "title": ""
    }
   },
   "outputs": [
    {
     "output_type": "display_data",
     "data": {
      "text/html": [
       "<style scoped>\n",
       "  .table-result-container {\n",
       "    max-height: 300px;\n",
       "    overflow: auto;\n",
       "  }\n",
       "  table, th, td {\n",
       "    border: 1px solid black;\n",
       "    border-collapse: collapse;\n",
       "  }\n",
       "  th, td {\n",
       "    padding: 5px;\n",
       "  }\n",
       "  th {\n",
       "    text-align: left;\n",
       "  }\n",
       "</style><div class='table-result-container'><table class='table-result'><thead style='background-color: white'><tr><th>CustomerID</th><th>Title</th><th>FirstName</th><th>MiddleName</th><th>LastName</th><th>CompanyName</th><th>SalesPerson</th><th>EmailAddress</th><th>Phone</th><th>ModifiedDate</th><th>Gender</th></tr></thead><tbody><tr><td>1</td><td>Mr.</td><td>Orlando</td><td>N.</td><td>Gee</td><td>A Bike Store</td><td>pamela0</td><td>orlando0@adventure-works.com</td><td>245-555-0173</td><td>01/08/2005</td><td>Male</td></tr><tr><td>2</td><td>Mr.</td><td>Keith</td><td>No Middle Name</td><td>Harris</td><td>Progressive Sports</td><td>david8</td><td>keith0@adventure-works.com</td><td>170-555-0127</td><td>01/08/2006</td><td>Male</td></tr><tr><td>3</td><td>Ms.</td><td>Donna</td><td>F.</td><td>Carreras</td><td>Advanced Bike Components</td><td>jillian0</td><td>donna0@adventure-works.com</td><td>279-555-0130</td><td>01/09/2005</td><td>Female</td></tr><tr><td>4</td><td>Ms.</td><td>Janet</td><td>M.</td><td>Gates</td><td>Modular Cycle Systems</td><td>jillian0</td><td>janet1@adventure-works.com</td><td>710-555-0173</td><td>01/07/2006</td><td>Female</td></tr><tr><td>5</td><td>Mr.</td><td>Lucy</td><td>No Middle Name</td><td>Harrington</td><td>Metropolitan Sports Supply</td><td>shu0</td><td>lucy0@adventure-works.com</td><td>828-555-0186</td><td>01/09/2006</td><td>Male</td></tr></tbody></table></div>"
      ]
     },
     "metadata": {
      "application/vnd.databricks.v1+output": {
       "addedWidgets": {},
       "aggData": [],
       "aggError": "",
       "aggOverflow": false,
       "aggSchema": [],
       "aggSeriesLimitReached": false,
       "aggType": "",
       "arguments": {},
       "columnCustomDisplayInfos": {},
       "data": [
        [
         1,
         "Mr.",
         "Orlando",
         "N.",
         "Gee",
         "A Bike Store",
         "pamela0",
         "orlando0@adventure-works.com",
         "245-555-0173",
         "01/08/2005",
         "Male"
        ],
        [
         2,
         "Mr.",
         "Keith",
         "No Middle Name",
         "Harris",
         "Progressive Sports",
         "david8",
         "keith0@adventure-works.com",
         "170-555-0127",
         "01/08/2006",
         "Male"
        ],
        [
         3,
         "Ms.",
         "Donna",
         "F.",
         "Carreras",
         "Advanced Bike Components",
         "jillian0",
         "donna0@adventure-works.com",
         "279-555-0130",
         "01/09/2005",
         "Female"
        ],
        [
         4,
         "Ms.",
         "Janet",
         "M.",
         "Gates",
         "Modular Cycle Systems",
         "jillian0",
         "janet1@adventure-works.com",
         "710-555-0173",
         "01/07/2006",
         "Female"
        ],
        [
         5,
         "Mr.",
         "Lucy",
         "No Middle Name",
         "Harrington",
         "Metropolitan Sports Supply",
         "shu0",
         "lucy0@adventure-works.com",
         "828-555-0186",
         "01/09/2006",
         "Male"
        ]
       ],
       "datasetInfos": [],
       "dbfsResultPath": null,
       "isJsonSchema": true,
       "metadata": {},
       "overflow": false,
       "plotOptions": {
        "customPlotOptions": {},
        "displayType": "table",
        "pivotAggregation": null,
        "pivotColumns": null,
        "xColumns": null,
        "yColumns": null
       },
       "removedWidgets": [],
       "schema": [
        {
         "metadata": "{}",
         "name": "CustomerID",
         "type": "\"integer\""
        },
        {
         "metadata": "{}",
         "name": "Title",
         "type": "\"string\""
        },
        {
         "metadata": "{}",
         "name": "FirstName",
         "type": "\"string\""
        },
        {
         "metadata": "{}",
         "name": "MiddleName",
         "type": "\"string\""
        },
        {
         "metadata": "{}",
         "name": "LastName",
         "type": "\"string\""
        },
        {
         "metadata": "{}",
         "name": "CompanyName",
         "type": "\"string\""
        },
        {
         "metadata": "{}",
         "name": "SalesPerson",
         "type": "\"string\""
        },
        {
         "metadata": "{}",
         "name": "EmailAddress",
         "type": "\"string\""
        },
        {
         "metadata": "{}",
         "name": "Phone",
         "type": "\"string\""
        },
        {
         "metadata": "{}",
         "name": "ModifiedDate",
         "type": "\"string\""
        },
        {
         "metadata": "{}",
         "name": "Gender",
         "type": "\"string\""
        }
       ],
       "type": "table"
      }
     },
     "output_type": "display_data"
    }
   ],
   "source": [
    "df_customer.limit(5).display()"
   ]
  },
  {
   "cell_type": "markdown",
   "metadata": {
    "application/vnd.databricks.v1+cell": {
     "cellMetadata": {
      "byteLimit": 2048000,
      "rowLimit": 10000
     },
     "inputWidgets": {},
     "nuid": "64f7e6b7-0761-4267-9245-fb52271a7eba",
     "showTitle": false,
     "tableResultSettingsMap": {},
     "title": ""
    }
   },
   "source": [
    "#### Save Transformed File to Silver Layer"
   ]
  },
  {
   "cell_type": "code",
   "execution_count": 0,
   "metadata": {
    "application/vnd.databricks.v1+cell": {
     "cellMetadata": {
      "byteLimit": 2048000,
      "rowLimit": 10000
     },
     "inputWidgets": {},
     "nuid": "a33adf5e-0886-484f-9905-892fb1dc6311",
     "showTitle": false,
     "tableResultSettingsMap": {},
     "title": ""
    }
   },
   "outputs": [],
   "source": [
    "df_customer.write.format('delta')\\\n",
    "    .mode('overwrite')\\\n",
    "        .save('abfss://silver@dlpracticenajeeb.dfs.core.windows.net/Customers')"
   ]
  },
  {
   "cell_type": "markdown",
   "metadata": {
    "application/vnd.databricks.v1+cell": {
     "cellMetadata": {
      "byteLimit": 2048000,
      "rowLimit": 10000
     },
     "inputWidgets": {},
     "nuid": "ac41e9c2-b24c-4c2d-9780-1067a8981daf",
     "showTitle": false,
     "tableResultSettingsMap": {},
     "title": ""
    }
   },
   "source": [
    "### Address Data"
   ]
  },
  {
   "cell_type": "code",
   "execution_count": 0,
   "metadata": {
    "application/vnd.databricks.v1+cell": {
     "cellMetadata": {
      "byteLimit": 2048000,
      "rowLimit": 10000
     },
     "inputWidgets": {},
     "nuid": "e4e0fa9a-f0ed-484b-9d37-cc1e96cde50e",
     "showTitle": false,
     "tableResultSettingsMap": {},
     "title": ""
    }
   },
   "outputs": [
    {
     "output_type": "display_data",
     "data": {
      "text/html": [
       "<style scoped>\n",
       "  .table-result-container {\n",
       "    max-height: 300px;\n",
       "    overflow: auto;\n",
       "  }\n",
       "  table, th, td {\n",
       "    border: 1px solid black;\n",
       "    border-collapse: collapse;\n",
       "  }\n",
       "  th, td {\n",
       "    padding: 5px;\n",
       "  }\n",
       "  th {\n",
       "    text-align: left;\n",
       "  }\n",
       "</style><div class='table-result-container'><table class='table-result'><thead style='background-color: white'><tr><th>AddressID</th><th>AddressLine1</th><th>AddressLine2</th><th>City</th><th>StateProvince</th><th>CountryRegion</th><th>PostalCode</th><th>rowguid</th><th>ModifiedDate</th></tr></thead><tbody><tr><td>9</td><td>8713 Yosemite Ct.</td><td>null</td><td>Bothell</td><td>Washington</td><td>United States</td><td>98011</td><td>268af621-76d7-4c78-9441-144fd139821a</td><td>2006-07-01T00:00:00Z</td></tr><tr><td>11</td><td>1318 Lasalle Street</td><td>null</td><td>Bothell</td><td>Washington</td><td>United States</td><td>98011</td><td>981b3303-aca2-49c7-9a96-fb670785b269</td><td>2007-04-01T00:00:00Z</td></tr><tr><td>25</td><td>9178 Jumping St.</td><td>null</td><td>Dallas</td><td>Texas</td><td>United States</td><td>75201</td><td>c8df3bd9-48f0-4654-a8dd-14a67a84d3c6</td><td>2006-09-01T00:00:00Z</td></tr><tr><td>28</td><td>9228 Via Del Sol</td><td>null</td><td>Phoenix</td><td>Arizona</td><td>United States</td><td>85004</td><td>12ae5ee1-fc3e-468b-9b92-3b970b169774</td><td>2005-09-01T00:00:00Z</td></tr><tr><td>32</td><td>26910 Indela Road</td><td>null</td><td>Montreal</td><td>Quebec</td><td>Canada</td><td>H1Y 2H5</td><td>84a95f62-3ae8-4e7e-bbd5-5a6f00cd982d</td><td>2006-08-01T00:00:00Z</td></tr></tbody></table></div>"
      ]
     },
     "metadata": {
      "application/vnd.databricks.v1+output": {
       "addedWidgets": {},
       "aggData": [],
       "aggError": "",
       "aggOverflow": false,
       "aggSchema": [],
       "aggSeriesLimitReached": false,
       "aggType": "",
       "arguments": {},
       "columnCustomDisplayInfos": {},
       "data": [
        [
         9,
         "8713 Yosemite Ct.",
         null,
         "Bothell",
         "Washington",
         "United States",
         "98011",
         "268af621-76d7-4c78-9441-144fd139821a",
         "2006-07-01T00:00:00Z"
        ],
        [
         11,
         "1318 Lasalle Street",
         null,
         "Bothell",
         "Washington",
         "United States",
         "98011",
         "981b3303-aca2-49c7-9a96-fb670785b269",
         "2007-04-01T00:00:00Z"
        ],
        [
         25,
         "9178 Jumping St.",
         null,
         "Dallas",
         "Texas",
         "United States",
         "75201",
         "c8df3bd9-48f0-4654-a8dd-14a67a84d3c6",
         "2006-09-01T00:00:00Z"
        ],
        [
         28,
         "9228 Via Del Sol",
         null,
         "Phoenix",
         "Arizona",
         "United States",
         "85004",
         "12ae5ee1-fc3e-468b-9b92-3b970b169774",
         "2005-09-01T00:00:00Z"
        ],
        [
         32,
         "26910 Indela Road",
         null,
         "Montreal",
         "Quebec",
         "Canada",
         "H1Y 2H5",
         "84a95f62-3ae8-4e7e-bbd5-5a6f00cd982d",
         "2006-08-01T00:00:00Z"
        ]
       ],
       "datasetInfos": [],
       "dbfsResultPath": null,
       "isJsonSchema": true,
       "metadata": {},
       "overflow": false,
       "plotOptions": {
        "customPlotOptions": {},
        "displayType": "table",
        "pivotAggregation": null,
        "pivotColumns": null,
        "xColumns": null,
        "yColumns": null
       },
       "removedWidgets": [],
       "schema": [
        {
         "metadata": "{}",
         "name": "AddressID",
         "type": "\"integer\""
        },
        {
         "metadata": "{}",
         "name": "AddressLine1",
         "type": "\"string\""
        },
        {
         "metadata": "{}",
         "name": "AddressLine2",
         "type": "\"string\""
        },
        {
         "metadata": "{}",
         "name": "City",
         "type": "\"string\""
        },
        {
         "metadata": "{}",
         "name": "StateProvince",
         "type": "\"string\""
        },
        {
         "metadata": "{}",
         "name": "CountryRegion",
         "type": "\"string\""
        },
        {
         "metadata": "{}",
         "name": "PostalCode",
         "type": "\"string\""
        },
        {
         "metadata": "{}",
         "name": "rowguid",
         "type": "\"string\""
        },
        {
         "metadata": "{}",
         "name": "ModifiedDate",
         "type": "\"timestamp\""
        }
       ],
       "type": "table"
      }
     },
     "output_type": "display_data"
    }
   ],
   "source": [
    "df_address = spark.read.format('csv').\\\n",
    "    option('header', True).\\\n",
    "    option('inferSchema', True).\\\n",
    "    load('abfss://bronze@dlpracticenajeeb.dfs.core.windows.net/SalesLT/Address.csv')\n",
    "df_address.limit(5).display()"
   ]
  },
  {
   "cell_type": "code",
   "execution_count": 0,
   "metadata": {
    "application/vnd.databricks.v1+cell": {
     "cellMetadata": {
      "byteLimit": 2048000,
      "rowLimit": 10000
     },
     "inputWidgets": {},
     "nuid": "f4239146-a909-4537-9e8c-47de447818d0",
     "showTitle": false,
     "tableResultSettingsMap": {},
     "title": ""
    }
   },
   "outputs": [
    {
     "output_type": "display_data",
     "data": {
      "text/html": [
       "<style scoped>\n",
       "  .table-result-container {\n",
       "    max-height: 300px;\n",
       "    overflow: auto;\n",
       "  }\n",
       "  table, th, td {\n",
       "    border: 1px solid black;\n",
       "    border-collapse: collapse;\n",
       "  }\n",
       "  th, td {\n",
       "    padding: 5px;\n",
       "  }\n",
       "  th {\n",
       "    text-align: left;\n",
       "  }\n",
       "</style><div class='table-result-container'><table class='table-result'><thead style='background-color: white'><tr><th>AddressID</th><th>City</th><th>StateProvince</th><th>CountryRegion</th><th>ModifiedDate</th></tr></thead><tbody><tr><td>9</td><td>Bothell</td><td>Washington</td><td>United States</td><td>2006-07-01T00:00:00Z</td></tr><tr><td>11</td><td>Bothell</td><td>Washington</td><td>United States</td><td>2007-04-01T00:00:00Z</td></tr><tr><td>25</td><td>Dallas</td><td>Texas</td><td>United States</td><td>2006-09-01T00:00:00Z</td></tr><tr><td>28</td><td>Phoenix</td><td>Arizona</td><td>United States</td><td>2005-09-01T00:00:00Z</td></tr><tr><td>32</td><td>Montreal</td><td>Quebec</td><td>Canada</td><td>2006-08-01T00:00:00Z</td></tr></tbody></table></div>"
      ]
     },
     "metadata": {
      "application/vnd.databricks.v1+output": {
       "addedWidgets": {},
       "aggData": [],
       "aggError": "",
       "aggOverflow": false,
       "aggSchema": [],
       "aggSeriesLimitReached": false,
       "aggType": "",
       "arguments": {},
       "columnCustomDisplayInfos": {},
       "data": [
        [
         9,
         "Bothell",
         "Washington",
         "United States",
         "2006-07-01T00:00:00Z"
        ],
        [
         11,
         "Bothell",
         "Washington",
         "United States",
         "2007-04-01T00:00:00Z"
        ],
        [
         25,
         "Dallas",
         "Texas",
         "United States",
         "2006-09-01T00:00:00Z"
        ],
        [
         28,
         "Phoenix",
         "Arizona",
         "United States",
         "2005-09-01T00:00:00Z"
        ],
        [
         32,
         "Montreal",
         "Quebec",
         "Canada",
         "2006-08-01T00:00:00Z"
        ]
       ],
       "datasetInfos": [],
       "dbfsResultPath": null,
       "isJsonSchema": true,
       "metadata": {},
       "overflow": false,
       "plotOptions": {
        "customPlotOptions": {},
        "displayType": "table",
        "pivotAggregation": null,
        "pivotColumns": null,
        "xColumns": null,
        "yColumns": null
       },
       "removedWidgets": [],
       "schema": [
        {
         "metadata": "{}",
         "name": "AddressID",
         "type": "\"integer\""
        },
        {
         "metadata": "{}",
         "name": "City",
         "type": "\"string\""
        },
        {
         "metadata": "{}",
         "name": "StateProvince",
         "type": "\"string\""
        },
        {
         "metadata": "{}",
         "name": "CountryRegion",
         "type": "\"string\""
        },
        {
         "metadata": "{}",
         "name": "ModifiedDate",
         "type": "\"timestamp\""
        }
       ],
       "type": "table"
      }
     },
     "output_type": "display_data"
    }
   ],
   "source": [
    "df_address = df_address.drop('AddressLine1', 'AddressLine2', 'rowguid', 'PostalCode')\n",
    "df_address.limit(5).display()"
   ]
  },
  {
   "cell_type": "markdown",
   "metadata": {
    "application/vnd.databricks.v1+cell": {
     "cellMetadata": {
      "byteLimit": 2048000,
      "rowLimit": 10000
     },
     "inputWidgets": {},
     "nuid": "2540c4c1-6128-4a43-a112-11d89feee87c",
     "showTitle": false,
     "tableResultSettingsMap": {},
     "title": ""
    }
   },
   "source": [
    "#### Change Date Format"
   ]
  },
  {
   "cell_type": "code",
   "execution_count": 0,
   "metadata": {
    "application/vnd.databricks.v1+cell": {
     "cellMetadata": {
      "byteLimit": 2048000,
      "rowLimit": 10000
     },
     "inputWidgets": {},
     "nuid": "9f9789e2-5ce3-464f-b63b-ec8721b222a2",
     "showTitle": false,
     "tableResultSettingsMap": {},
     "title": ""
    }
   },
   "outputs": [
    {
     "output_type": "display_data",
     "data": {
      "text/html": [
       "<style scoped>\n",
       "  .table-result-container {\n",
       "    max-height: 300px;\n",
       "    overflow: auto;\n",
       "  }\n",
       "  table, th, td {\n",
       "    border: 1px solid black;\n",
       "    border-collapse: collapse;\n",
       "  }\n",
       "  th, td {\n",
       "    padding: 5px;\n",
       "  }\n",
       "  th {\n",
       "    text-align: left;\n",
       "  }\n",
       "</style><div class='table-result-container'><table class='table-result'><thead style='background-color: white'><tr><th>AddressID</th><th>City</th><th>StateProvince</th><th>CountryRegion</th><th>ModifiedDate</th></tr></thead><tbody><tr><td>9</td><td>Bothell</td><td>Washington</td><td>United States</td><td>01/07/2006</td></tr><tr><td>11</td><td>Bothell</td><td>Washington</td><td>United States</td><td>01/04/2007</td></tr><tr><td>25</td><td>Dallas</td><td>Texas</td><td>United States</td><td>01/09/2006</td></tr><tr><td>28</td><td>Phoenix</td><td>Arizona</td><td>United States</td><td>01/09/2005</td></tr><tr><td>32</td><td>Montreal</td><td>Quebec</td><td>Canada</td><td>01/08/2006</td></tr></tbody></table></div>"
      ]
     },
     "metadata": {
      "application/vnd.databricks.v1+output": {
       "addedWidgets": {},
       "aggData": [],
       "aggError": "",
       "aggOverflow": false,
       "aggSchema": [],
       "aggSeriesLimitReached": false,
       "aggType": "",
       "arguments": {},
       "columnCustomDisplayInfos": {},
       "data": [
        [
         9,
         "Bothell",
         "Washington",
         "United States",
         "01/07/2006"
        ],
        [
         11,
         "Bothell",
         "Washington",
         "United States",
         "01/04/2007"
        ],
        [
         25,
         "Dallas",
         "Texas",
         "United States",
         "01/09/2006"
        ],
        [
         28,
         "Phoenix",
         "Arizona",
         "United States",
         "01/09/2005"
        ],
        [
         32,
         "Montreal",
         "Quebec",
         "Canada",
         "01/08/2006"
        ]
       ],
       "datasetInfos": [],
       "dbfsResultPath": null,
       "isJsonSchema": true,
       "metadata": {},
       "overflow": false,
       "plotOptions": {
        "customPlotOptions": {},
        "displayType": "table",
        "pivotAggregation": null,
        "pivotColumns": null,
        "xColumns": null,
        "yColumns": null
       },
       "removedWidgets": [],
       "schema": [
        {
         "metadata": "{}",
         "name": "AddressID",
         "type": "\"integer\""
        },
        {
         "metadata": "{}",
         "name": "City",
         "type": "\"string\""
        },
        {
         "metadata": "{}",
         "name": "StateProvince",
         "type": "\"string\""
        },
        {
         "metadata": "{}",
         "name": "CountryRegion",
         "type": "\"string\""
        },
        {
         "metadata": "{}",
         "name": "ModifiedDate",
         "type": "\"string\""
        }
       ],
       "type": "table"
      }
     },
     "output_type": "display_data"
    }
   ],
   "source": [
    "df_address = df_address.withColumn('ModifiedDate', date_format('ModifiedDate', 'dd/MM/yyyy'))\n",
    "df_address.limit(5).display()"
   ]
  },
  {
   "cell_type": "markdown",
   "metadata": {
    "application/vnd.databricks.v1+cell": {
     "cellMetadata": {
      "byteLimit": 2048000,
      "rowLimit": 10000
     },
     "inputWidgets": {},
     "nuid": "064dae09-a4df-457c-9242-fd449151c4e4",
     "showTitle": false,
     "tableResultSettingsMap": {},
     "title": ""
    }
   },
   "source": [
    "#### Check Null Values in all columns"
   ]
  },
  {
   "cell_type": "code",
   "execution_count": 0,
   "metadata": {
    "application/vnd.databricks.v1+cell": {
     "cellMetadata": {
      "byteLimit": 2048000,
      "rowLimit": 10000
     },
     "inputWidgets": {},
     "nuid": "512f3106-f5aa-452d-a0d3-87396681776c",
     "showTitle": false,
     "tableResultSettingsMap": {},
     "title": ""
    }
   },
   "outputs": [
    {
     "output_type": "display_data",
     "data": {
      "text/html": [
       "<style scoped>\n",
       "  .table-result-container {\n",
       "    max-height: 300px;\n",
       "    overflow: auto;\n",
       "  }\n",
       "  table, th, td {\n",
       "    border: 1px solid black;\n",
       "    border-collapse: collapse;\n",
       "  }\n",
       "  th, td {\n",
       "    padding: 5px;\n",
       "  }\n",
       "  th {\n",
       "    text-align: left;\n",
       "  }\n",
       "</style><div class='table-result-container'><table class='table-result'><thead style='background-color: white'><tr><th>AddressID</th><th>City</th><th>StateProvince</th><th>CountryRegion</th><th>ModifiedDate</th></tr></thead><tbody><tr><td>0</td><td>0</td><td>0</td><td>0</td><td>0</td></tr></tbody></table></div>"
      ]
     },
     "metadata": {
      "application/vnd.databricks.v1+output": {
       "addedWidgets": {},
       "aggData": [],
       "aggError": "",
       "aggOverflow": false,
       "aggSchema": [],
       "aggSeriesLimitReached": false,
       "aggType": "",
       "arguments": {},
       "columnCustomDisplayInfos": {},
       "data": [
        [
         0,
         0,
         0,
         0,
         0
        ]
       ],
       "datasetInfos": [],
       "dbfsResultPath": null,
       "isJsonSchema": true,
       "metadata": {},
       "overflow": false,
       "plotOptions": {
        "customPlotOptions": {},
        "displayType": "table",
        "pivotAggregation": null,
        "pivotColumns": null,
        "xColumns": null,
        "yColumns": null
       },
       "removedWidgets": [],
       "schema": [
        {
         "metadata": "{}",
         "name": "AddressID",
         "type": "\"long\""
        },
        {
         "metadata": "{}",
         "name": "City",
         "type": "\"long\""
        },
        {
         "metadata": "{}",
         "name": "StateProvince",
         "type": "\"long\""
        },
        {
         "metadata": "{}",
         "name": "CountryRegion",
         "type": "\"long\""
        },
        {
         "metadata": "{}",
         "name": "ModifiedDate",
         "type": "\"long\""
        }
       ],
       "type": "table"
      }
     },
     "output_type": "display_data"
    }
   ],
   "source": [
    "df_address.select(\n",
    "    [sum(col(c).isNull().cast('int')).alias(c) for c in df_address.columns]\n",
    ").display()"
   ]
  },
  {
   "cell_type": "markdown",
   "metadata": {
    "application/vnd.databricks.v1+cell": {
     "cellMetadata": {
      "byteLimit": 2048000,
      "rowLimit": 10000
     },
     "inputWidgets": {},
     "nuid": "7fd9d16e-15af-4f85-a3cb-8558686b006f",
     "showTitle": false,
     "tableResultSettingsMap": {},
     "title": ""
    }
   },
   "source": [
    "#### Write file to silver container"
   ]
  },
  {
   "cell_type": "code",
   "execution_count": 0,
   "metadata": {
    "application/vnd.databricks.v1+cell": {
     "cellMetadata": {
      "byteLimit": 2048000,
      "rowLimit": 10000
     },
     "inputWidgets": {},
     "nuid": "1a52ee52-acf6-41d4-bd5d-3bddca80f748",
     "showTitle": false,
     "tableResultSettingsMap": {},
     "title": ""
    }
   },
   "outputs": [],
   "source": [
    "df_address.write.format('delta').mode('overwrite').\\\n",
    "    option('path', 'abfss://silver@dlpracticenajeeb.dfs.core.windows.net/Address').\\\n",
    "        save()"
   ]
  },
  {
   "cell_type": "markdown",
   "metadata": {
    "application/vnd.databricks.v1+cell": {
     "cellMetadata": {
      "byteLimit": 2048000,
      "rowLimit": 10000
     },
     "inputWidgets": {},
     "nuid": "c60601bc-e9cc-480a-ae21-0e44985693ca",
     "showTitle": false,
     "tableResultSettingsMap": {},
     "title": ""
    }
   },
   "source": [
    "### Customer Address File"
   ]
  },
  {
   "cell_type": "code",
   "execution_count": 0,
   "metadata": {
    "application/vnd.databricks.v1+cell": {
     "cellMetadata": {
      "byteLimit": 2048000,
      "rowLimit": 10000
     },
     "inputWidgets": {},
     "nuid": "7682400b-a67c-498e-81b4-0efa19f0c1bb",
     "showTitle": false,
     "tableResultSettingsMap": {},
     "title": ""
    }
   },
   "outputs": [
    {
     "output_type": "display_data",
     "data": {
      "text/html": [
       "<style scoped>\n",
       "  .table-result-container {\n",
       "    max-height: 300px;\n",
       "    overflow: auto;\n",
       "  }\n",
       "  table, th, td {\n",
       "    border: 1px solid black;\n",
       "    border-collapse: collapse;\n",
       "  }\n",
       "  th, td {\n",
       "    padding: 5px;\n",
       "  }\n",
       "  th {\n",
       "    text-align: left;\n",
       "  }\n",
       "</style><div class='table-result-container'><table class='table-result'><thead style='background-color: white'><tr><th>CustomerID</th><th>AddressID</th><th>AddressType</th><th>rowguid</th><th>ModifiedDate</th></tr></thead><tbody><tr><td>29485</td><td>1086</td><td>Main Office</td><td>16765338-dbe4-4421-b5e9-3836b9278e63</td><td>2007-09-01T00:00:00Z</td></tr><tr><td>29486</td><td>621</td><td>Main Office</td><td>22b3e910-14af-4ed5-8b4d-23bbe757414d</td><td>2005-09-01T00:00:00Z</td></tr><tr><td>29489</td><td>1069</td><td>Main Office</td><td>a095c88b-d7e6-4178-a078-2eca44214801</td><td>2005-07-01T00:00:00Z</td></tr><tr><td>29490</td><td>887</td><td>Main Office</td><td>f12e1702-d897-4035-b614-0fe2c72168a9</td><td>2006-09-01T00:00:00Z</td></tr><tr><td>29492</td><td>618</td><td>Main Office</td><td>5b3b3eb2-3f43-47ed-a20c-23697dabf23b</td><td>2006-12-01T00:00:00Z</td></tr></tbody></table></div>"
      ]
     },
     "metadata": {
      "application/vnd.databricks.v1+output": {
       "addedWidgets": {},
       "aggData": [],
       "aggError": "",
       "aggOverflow": false,
       "aggSchema": [],
       "aggSeriesLimitReached": false,
       "aggType": "",
       "arguments": {},
       "columnCustomDisplayInfos": {},
       "data": [
        [
         29485,
         1086,
         "Main Office",
         "16765338-dbe4-4421-b5e9-3836b9278e63",
         "2007-09-01T00:00:00Z"
        ],
        [
         29486,
         621,
         "Main Office",
         "22b3e910-14af-4ed5-8b4d-23bbe757414d",
         "2005-09-01T00:00:00Z"
        ],
        [
         29489,
         1069,
         "Main Office",
         "a095c88b-d7e6-4178-a078-2eca44214801",
         "2005-07-01T00:00:00Z"
        ],
        [
         29490,
         887,
         "Main Office",
         "f12e1702-d897-4035-b614-0fe2c72168a9",
         "2006-09-01T00:00:00Z"
        ],
        [
         29492,
         618,
         "Main Office",
         "5b3b3eb2-3f43-47ed-a20c-23697dabf23b",
         "2006-12-01T00:00:00Z"
        ]
       ],
       "datasetInfos": [],
       "dbfsResultPath": null,
       "isJsonSchema": true,
       "metadata": {},
       "overflow": false,
       "plotOptions": {
        "customPlotOptions": {},
        "displayType": "table",
        "pivotAggregation": null,
        "pivotColumns": null,
        "xColumns": null,
        "yColumns": null
       },
       "removedWidgets": [],
       "schema": [
        {
         "metadata": "{}",
         "name": "CustomerID",
         "type": "\"integer\""
        },
        {
         "metadata": "{}",
         "name": "AddressID",
         "type": "\"integer\""
        },
        {
         "metadata": "{}",
         "name": "AddressType",
         "type": "\"string\""
        },
        {
         "metadata": "{}",
         "name": "rowguid",
         "type": "\"string\""
        },
        {
         "metadata": "{}",
         "name": "ModifiedDate",
         "type": "\"timestamp\""
        }
       ],
       "type": "table"
      }
     },
     "output_type": "display_data"
    }
   ],
   "source": [
    "df_cus_ad = spark.read.format('csv').option('header',  True).\\\n",
    "    option('inferSchema', True).\\\n",
    "        load('abfss://bronze@dlpracticenajeeb.dfs.core.windows.net/SalesLT/CustomerAddress.csv')\n",
    "df_cus_ad.limit(5).display()"
   ]
  },
  {
   "cell_type": "markdown",
   "metadata": {
    "application/vnd.databricks.v1+cell": {
     "cellMetadata": {
      "byteLimit": 2048000,
      "rowLimit": 10000
     },
     "inputWidgets": {},
     "nuid": "c200b56d-187f-4dfa-8734-e3b6aad1b235",
     "showTitle": false,
     "tableResultSettingsMap": {},
     "title": ""
    }
   },
   "source": [
    "#### Transform Data"
   ]
  },
  {
   "cell_type": "code",
   "execution_count": 0,
   "metadata": {
    "application/vnd.databricks.v1+cell": {
     "cellMetadata": {
      "byteLimit": 2048000,
      "rowLimit": 10000
     },
     "inputWidgets": {},
     "nuid": "586ead50-dd53-4754-abef-b72e760e9854",
     "showTitle": false,
     "tableResultSettingsMap": {},
     "title": ""
    }
   },
   "outputs": [],
   "source": [
    "df_cus_ad = df_cus_ad.drop('rowguid')"
   ]
  },
  {
   "cell_type": "code",
   "execution_count": 0,
   "metadata": {
    "application/vnd.databricks.v1+cell": {
     "cellMetadata": {
      "byteLimit": 2048000,
      "rowLimit": 10000
     },
     "inputWidgets": {},
     "nuid": "24890183-09ba-4878-9f88-7fdacf59c25c",
     "showTitle": false,
     "tableResultSettingsMap": {},
     "title": ""
    }
   },
   "outputs": [],
   "source": [
    "df_cus_ad = df_cus_ad.withColumn('modifiedDate', date_format('ModifiedDate', 'dd/MM/yyyy'))"
   ]
  },
  {
   "cell_type": "markdown",
   "metadata": {
    "application/vnd.databricks.v1+cell": {
     "cellMetadata": {
      "byteLimit": 2048000,
      "rowLimit": 10000
     },
     "inputWidgets": {},
     "nuid": "35947c3e-aad9-4fec-880e-53c610bf291d",
     "showTitle": false,
     "tableResultSettingsMap": {},
     "title": ""
    }
   },
   "source": [
    "#### Check Null Values"
   ]
  },
  {
   "cell_type": "code",
   "execution_count": 0,
   "metadata": {
    "application/vnd.databricks.v1+cell": {
     "cellMetadata": {
      "byteLimit": 2048000,
      "rowLimit": 10000
     },
     "inputWidgets": {},
     "nuid": "c9de730c-261c-44f4-9139-8b4480ebaf93",
     "showTitle": false,
     "tableResultSettingsMap": {},
     "title": ""
    }
   },
   "outputs": [
    {
     "output_type": "display_data",
     "data": {
      "text/html": [
       "<style scoped>\n",
       "  .table-result-container {\n",
       "    max-height: 300px;\n",
       "    overflow: auto;\n",
       "  }\n",
       "  table, th, td {\n",
       "    border: 1px solid black;\n",
       "    border-collapse: collapse;\n",
       "  }\n",
       "  th, td {\n",
       "    padding: 5px;\n",
       "  }\n",
       "  th {\n",
       "    text-align: left;\n",
       "  }\n",
       "</style><div class='table-result-container'><table class='table-result'><thead style='background-color: white'><tr><th>CustomerID</th><th>AddressID</th><th>AddressType</th><th>modifiedDate</th></tr></thead><tbody><tr><td>0</td><td>0</td><td>0</td><td>0</td></tr></tbody></table></div>"
      ]
     },
     "metadata": {
      "application/vnd.databricks.v1+output": {
       "addedWidgets": {},
       "aggData": [],
       "aggError": "",
       "aggOverflow": false,
       "aggSchema": [],
       "aggSeriesLimitReached": false,
       "aggType": "",
       "arguments": {},
       "columnCustomDisplayInfos": {},
       "data": [
        [
         0,
         0,
         0,
         0
        ]
       ],
       "datasetInfos": [],
       "dbfsResultPath": null,
       "isJsonSchema": true,
       "metadata": {},
       "overflow": false,
       "plotOptions": {
        "customPlotOptions": {},
        "displayType": "table",
        "pivotAggregation": null,
        "pivotColumns": null,
        "xColumns": null,
        "yColumns": null
       },
       "removedWidgets": [],
       "schema": [
        {
         "metadata": "{}",
         "name": "CustomerID",
         "type": "\"long\""
        },
        {
         "metadata": "{}",
         "name": "AddressID",
         "type": "\"long\""
        },
        {
         "metadata": "{}",
         "name": "AddressType",
         "type": "\"long\""
        },
        {
         "metadata": "{}",
         "name": "modifiedDate",
         "type": "\"long\""
        }
       ],
       "type": "table"
      }
     },
     "output_type": "display_data"
    }
   ],
   "source": [
    "df_cus_ad.select([\n",
    "    sum(col(c).isNull().cast('int')).alias(c) for c in df_cus_ad.columns\n",
    "]).display()"
   ]
  },
  {
   "cell_type": "markdown",
   "metadata": {
    "application/vnd.databricks.v1+cell": {
     "cellMetadata": {
      "byteLimit": 2048000,
      "rowLimit": 10000
     },
     "inputWidgets": {},
     "nuid": "5f0775f7-1ce8-49c3-9364-09cf3b8b2eb9",
     "showTitle": false,
     "tableResultSettingsMap": {},
     "title": ""
    }
   },
   "source": [
    "#### Write  to Silver Container"
   ]
  },
  {
   "cell_type": "code",
   "execution_count": 0,
   "metadata": {
    "application/vnd.databricks.v1+cell": {
     "cellMetadata": {
      "byteLimit": 2048000,
      "rowLimit": 10000
     },
     "inputWidgets": {},
     "nuid": "994d2d06-843f-45e8-a814-857bfe945f15",
     "showTitle": false,
     "tableResultSettingsMap": {},
     "title": ""
    }
   },
   "outputs": [],
   "source": [
    "df_cus_ad.write.format('delta').mode('overwrite').option('path', 'abfss://silver@dlpracticenajeeb.dfs.core.windows.net/CustomerAddress').save()"
   ]
  },
  {
   "cell_type": "markdown",
   "metadata": {
    "application/vnd.databricks.v1+cell": {
     "cellMetadata": {
      "byteLimit": 2048000,
      "rowLimit": 10000
     },
     "inputWidgets": {},
     "nuid": "6d7cf1db-4641-41ad-bad1-e9bd84f1fec6",
     "showTitle": false,
     "tableResultSettingsMap": {},
     "title": ""
    }
   },
   "source": [
    "### Product File"
   ]
  },
  {
   "cell_type": "code",
   "execution_count": 0,
   "metadata": {
    "application/vnd.databricks.v1+cell": {
     "cellMetadata": {
      "byteLimit": 2048000,
      "rowLimit": 10000
     },
     "inputWidgets": {},
     "nuid": "699f8725-6f91-472e-9471-7d0eb9486ed1",
     "showTitle": false,
     "tableResultSettingsMap": {},
     "title": ""
    }
   },
   "outputs": [
    {
     "output_type": "display_data",
     "data": {
      "text/html": [
       "<style scoped>\n",
       "  .table-result-container {\n",
       "    max-height: 300px;\n",
       "    overflow: auto;\n",
       "  }\n",
       "  table, th, td {\n",
       "    border: 1px solid black;\n",
       "    border-collapse: collapse;\n",
       "  }\n",
       "  th, td {\n",
       "    padding: 5px;\n",
       "  }\n",
       "  th {\n",
       "    text-align: left;\n",
       "  }\n",
       "</style><div class='table-result-container'><table class='table-result'><thead style='background-color: white'><tr><th>ProductID</th><th>Name</th><th>ProductNumber</th><th>Color</th><th>StandardCost</th><th>ListPrice</th><th>Size</th><th>Weight</th><th>ProductCategoryID</th><th>ProductModelID</th><th>SellStartDate</th><th>SellEndDate</th><th>DiscontinuedDate</th><th>ThumbNailPhoto</th><th>ThumbnailPhotoFileName</th><th>rowguid</th><th>ModifiedDate</th></tr></thead><tbody><tr><td>680</td><td>HL Road Frame - Black, 58</td><td>FR-R92B-58</td><td>Black</td><td>1059.31</td><td>1431.5</td><td>58</td><td>1016.04</td><td>18</td><td>6</td><td>2002-06-01T00:00:00Z</td><td>null</td><td>null</td><td>0x47494638396150003100F70000000000800000008000808000000080800080008080808080C0C0C0FF000000FF00FFFF000000FFFF00FF00FFFFFFFFFF0000000000000000000000000000000000000000000000000000000000000000000000000000000000000000000000000000000000000000000000000000000000000000000000000000000000330000660000990000CC0000FF0033000033330033660033990033CC0033FF0066000066330066660066990066CC0066FF0099000099330099660099990099CC0099FF00CC0000CC3300CC6600CC9900CCCC00CCFF00FF0000FF3300FF6600FF9900FFCC00FFFF3300003300333300663300993300CC3300FF3333003333333333663333993333CC3333FF3366003366333366663366993366CC3366FF3399003399333399663399993399CC3399FF33CC0033CC3333CC6633CC9933CCCC33CCFF33FF0033FF3333FF6633FF9933FFCC33FFFF6600006600336600666600996600CC6600FF6633006633336633666633996633CC6633FF6666006666336666666666996666CC6666FF6699006699336699666699996699CC6699FF66CC0066CC3366CC6666CC9966CCCC66CCFF66FF0066FF3366FF6666FF9966FFCC66FFFF9900009900339900669900999900CC9900FF9933009933339933669933999933CC9933FF9966009966339966669966999966CC9966FF9999009999339999669999999999CC9999FF99CC0099CC3399CC6699CC9999CCCC99CCFF99FF0099FF3399FF6699FF9999FFCC99FFFFCC0000CC0033CC0066CC0099CC00CCCC00FFCC3300CC3333CC3366CC3399CC33CCCC33FFCC6600CC6633CC6666CC6699CC66CCCC66FFCC9900CC9933CC9966CC9999CC99CCCC99FFCCCC00CCCC33CCCC66CCCC99CCCCCCCCCCFFCCFF00CCFF33CCFF66CCFF99CCFFCCCCFFFFFF0000FF0033FF0066FF0099FF00CCFF00FFFF3300FF3333FF3366FF3399FF33CCFF33FFFF6600FF6633FF6666FF6699FF66CCFF66FFFF9900FF9933FF9966FF9999FF99CCFF99FFFFCC00FFCC33FFCC66FFCC99FFCCCCFFCCFFFFFF00FFFF33FFFF66FFFF99FFFFCCFFFFFF21F90401000010002C00000000500031000008FF00FF091C48B0A0C18308132A5CC8B0A1C38710234A9C48B1A2C58B18336ADCC8B1A3C78F20438A1C49B2A4C9932853AA5C9911058A812E17C664F9D0E5CB7F3313E6A4C9D0A6C099366FC27C19D367CEA04371DE44CA1169D1A542952A25FA1467D2A7547F46C558542AD0A855A58A9D9AD52BD4A654C3EE547BD6AC58AC3E377E2DBB96EED9AF6FCB7A9C9B97205BAD7DB1F6952B74EED6BF79E3B2DDC95362E1AD8D2F328D4CB9B2E5CB9831C77518D62063C6223743040DD82F6490558FA6BD0B152F5EB2A8B3AA7EEC96B651D96D3BFE9D8D7BE86EBB1F7F034ECD3AF06AD292831237EEB6F9F290AAB5B65DEE9A7A6EC249A7FA7EAEDC79EBD399C38B121F4FBEBCF9F3E8D3AB5FCFBEBDFBF7EF0302003B</td><td>no_image_available_small.gif</td><td>43dd68d6-14a4-461f-9069-55309d90ea7e</td><td>2008-03-11T10:01:36.827Z</td></tr><tr><td>706</td><td>HL Road Frame - Red, 58</td><td>FR-R92R-58</td><td>Red</td><td>1059.31</td><td>1431.5</td><td>58</td><td>1016.04</td><td>18</td><td>6</td><td>2002-06-01T00:00:00Z</td><td>null</td><td>null</td><td>0x47494638396150003100F70000000000800000008000808000000080800080008080808080C0C0C0FF000000FF00FFFF000000FFFF00FF00FFFFFFFFFF0000000000000000000000000000000000000000000000000000000000000000000000000000000000000000000000000000000000000000000000000000000000000000000000000000000000330000660000990000CC0000FF0033000033330033660033990033CC0033FF0066000066330066660066990066CC0066FF0099000099330099660099990099CC0099FF00CC0000CC3300CC6600CC9900CCCC00CCFF00FF0000FF3300FF6600FF9900FFCC00FFFF3300003300333300663300993300CC3300FF3333003333333333663333993333CC3333FF3366003366333366663366993366CC3366FF3399003399333399663399993399CC3399FF33CC0033CC3333CC6633CC9933CCCC33CCFF33FF0033FF3333FF6633FF9933FFCC33FFFF6600006600336600666600996600CC6600FF6633006633336633666633996633CC6633FF6666006666336666666666996666CC6666FF6699006699336699666699996699CC6699FF66CC0066CC3366CC6666CC9966CCCC66CCFF66FF0066FF3366FF6666FF9966FFCC66FFFF9900009900339900669900999900CC9900FF9933009933339933669933999933CC9933FF9966009966339966669966999966CC9966FF9999009999339999669999999999CC9999FF99CC0099CC3399CC6699CC9999CCCC99CCFF99FF0099FF3399FF6699FF9999FFCC99FFFFCC0000CC0033CC0066CC0099CC00CCCC00FFCC3300CC3333CC3366CC3399CC33CCCC33FFCC6600CC6633CC6666CC6699CC66CCCC66FFCC9900CC9933CC9966CC9999CC99CCCC99FFCCCC00CCCC33CCCC66CCCC99CCCCCCCCCCFFCCFF00CCFF33CCFF66CCFF99CCFFCCCCFFFFFF0000FF0033FF0066FF0099FF00CCFF00FFFF3300FF3333FF3366FF3399FF33CCFF33FFFF6600FF6633FF6666FF6699FF66CCFF66FFFF9900FF9933FF9966FF9999FF99CCFF99FFFFCC00FFCC33FFCC66FFCC99FFCCCCFFCCFFFFFF00FFFF33FFFF66FFFF99FFFFCCFFFFFF21F90401000010002C00000000500031000008FF00FF091C48B0A0C18308132A5CC8B0A1C38710234A9C48B1A2C58B18336ADCC8B1A3C78F20438A1C49B2A4C9932853AA5C9911058A812E17C664F9D0E5CB7F3313E6A4C9D0A6C099366FC27C19D367CEA04371DE44CA1169D1A542952A25FA1467D2A7547F46C558542AD0A855A58A9D9AD52BD4A654C3EE547BD6AC58AC3E377E2DBB96EED9AF6FCB7A9C9B97205BAD7DB1F6952B74EED6BF79E3B2DDC95362E1AD8D2F328D4CB9B2E5CB9831C77518D62063C6223743040DD82F6490558FA6BD0B152F5EB2A8B3AA7EEC96B651D96D3BFE9D8D7BE86EBB1F7F034ECD3AF06AD292831237EEB6F9F290AAB5B65DEE9A7A6EC249A7FA7EAEDC79EBD399C38B121F4FBEBCF9F3E8D3AB5FCFBEBDFBF7EF0302003B</td><td>no_image_available_small.gif</td><td>9540ff17-2712-4c90-a3d1-8ce5568b2462</td><td>2008-03-11T10:01:36.827Z</td></tr><tr><td>707</td><td>Sport-100 Helmet, Red</td><td>HL-U509-R</td><td>Red</td><td>13.0863</td><td>34.99</td><td>null</td><td>null</td><td>35</td><td>33</td><td>2005-07-01T00:00:00Z</td><td>null</td><td>null</td><td>0x47494638396150003100F70000000000800000008000808000000080800080008080808080C0C0C0FF000000FF00FFFF000000FFFF00FF00FFFFFFFFFF0000000000000000000000000000000000000000000000000000000000000000000000000000000000000000000000000000000000000000000000000000000000000000000000000000000000330000660000990000CC0000FF0033000033330033660033990033CC0033FF0066000066330066660066990066CC0066FF0099000099330099660099990099CC0099FF00CC0000CC3300CC6600CC9900CCCC00CCFF00FF0000FF3300FF6600FF9900FFCC00FFFF3300003300333300663300993300CC3300FF3333003333333333663333993333CC3333FF3366003366333366663366993366CC3366FF3399003399333399663399993399CC3399FF33CC0033CC3333CC6633CC9933CCCC33CCFF33FF0033FF3333FF6633FF9933FFCC33FFFF6600006600336600666600996600CC6600FF6633006633336633666633996633CC6633FF6666006666336666666666996666CC6666FF6699006699336699666699996699CC6699FF66CC0066CC3366CC6666CC9966CCCC66CCFF66FF0066FF3366FF6666FF9966FFCC66FFFF9900009900339900669900999900CC9900FF9933009933339933669933999933CC9933FF9966009966339966669966999966CC9966FF9999009999339999669999999999CC9999FF99CC0099CC3399CC6699CC9999CCCC99CCFF99FF0099FF3399FF6699FF9999FFCC99FFFFCC0000CC0033CC0066CC0099CC00CCCC00FFCC3300CC3333CC3366CC3399CC33CCCC33FFCC6600CC6633CC6666CC6699CC66CCCC66FFCC9900CC9933CC9966CC9999CC99CCCC99FFCCCC00CCCC33CCCC66CCCC99CCCCCCCCCCFFCCFF00CCFF33CCFF66CCFF99CCFFCCCCFFFFFF0000FF0033FF0066FF0099FF00CCFF00FFFF3300FF3333FF3366FF3399FF33CCFF33FFFF6600FF6633FF6666FF6699FF66CCFF66FFFF9900FF9933FF9966FF9999FF99CCFF99FFFFCC00FFCC33FFCC66FFCC99FFCCCCFFCCFFFFFF00FFFF33FFFF66FFFF99FFFFCCFFFFFF21F90401000010002C00000000500031000008FF00FF091C48B0A0C18308132A5CC8B0A1C38710234A9C48B1A2C58B18336ADCC8B1A3C78F20438A1C49B2A4C9932853AA5C9911058A812E17C664F9D0E5CB7F3313E6A4C9D0A6C099366FC27C19D367CEA04371DE44CA1169D1A542952A25FA1467D2A7547F46C558542AD0A855A58A9D9AD52BD4A654C3EE547BD6AC58AC3E377E2DBB96EED9AF6FCB7A9C9B97205BAD7DB1F6952B74EED6BF79E3B2DDC95362E1AD8D2F328D4CB9B2E5CB9831C77518D62063C6223743040DD82F6490558FA6BD0B152F5EB2A8B3AA7EEC96B651D96D3BFE9D8D7BE86EBB1F7F034ECD3AF06AD292831237EEB6F9F290AAB5B65DEE9A7A6EC249A7FA7EAEDC79EBD399C38B121F4FBEBCF9F3E8D3AB5FCFBEBDFBF7EF0302003B</td><td>no_image_available_small.gif</td><td>2e1ef41a-c08a-4ff6-8ada-bde58b64a712</td><td>2008-03-11T10:01:36.827Z</td></tr><tr><td>708</td><td>Sport-100 Helmet, Black</td><td>HL-U509</td><td>Black</td><td>13.0863</td><td>34.99</td><td>null</td><td>null</td><td>35</td><td>33</td><td>2005-07-01T00:00:00Z</td><td>null</td><td>null</td><td>0x47494638396150003100F70000000000800000008000808000000080800080008080808080C0C0C0FF000000FF00FFFF000000FFFF00FF00FFFFFFFFFF0000000000000000000000000000000000000000000000000000000000000000000000000000000000000000000000000000000000000000000000000000000000000000000000000000000000330000660000990000CC0000FF0033000033330033660033990033CC0033FF0066000066330066660066990066CC0066FF0099000099330099660099990099CC0099FF00CC0000CC3300CC6600CC9900CCCC00CCFF00FF0000FF3300FF6600FF9900FFCC00FFFF3300003300333300663300993300CC3300FF3333003333333333663333993333CC3333FF3366003366333366663366993366CC3366FF3399003399333399663399993399CC3399FF33CC0033CC3333CC6633CC9933CCCC33CCFF33FF0033FF3333FF6633FF9933FFCC33FFFF6600006600336600666600996600CC6600FF6633006633336633666633996633CC6633FF6666006666336666666666996666CC6666FF6699006699336699666699996699CC6699FF66CC0066CC3366CC6666CC9966CCCC66CCFF66FF0066FF3366FF6666FF9966FFCC66FFFF9900009900339900669900999900CC9900FF9933009933339933669933999933CC9933FF9966009966339966669966999966CC9966FF9999009999339999669999999999CC9999FF99CC0099CC3399CC6699CC9999CCCC99CCFF99FF0099FF3399FF6699FF9999FFCC99FFFFCC0000CC0033CC0066CC0099CC00CCCC00FFCC3300CC3333CC3366CC3399CC33CCCC33FFCC6600CC6633CC6666CC6699CC66CCCC66FFCC9900CC9933CC9966CC9999CC99CCCC99FFCCCC00CCCC33CCCC66CCCC99CCCCCCCCCCFFCCFF00CCFF33CCFF66CCFF99CCFFCCCCFFFFFF0000FF0033FF0066FF0099FF00CCFF00FFFF3300FF3333FF3366FF3399FF33CCFF33FFFF6600FF6633FF6666FF6699FF66CCFF66FFFF9900FF9933FF9966FF9999FF99CCFF99FFFFCC00FFCC33FFCC66FFCC99FFCCCCFFCCFFFFFF00FFFF33FFFF66FFFF99FFFFCCFFFFFF21F90401000010002C00000000500031000008FF00FF091C48B0A0C18308132A5CC8B0A1C38710234A9C48B1A2C58B18336ADCC8B1A3C78F20438A1C49B2A4C9932853AA5C9911058A812E17C664F9D0E5CB7F3313E6A4C9D0A6C099366FC27C19D367CEA04371DE44CA1169D1A542952A25FA1467D2A7547F46C558542AD0A855A58A9D9AD52BD4A654C3EE547BD6AC58AC3E377E2DBB96EED9AF6FCB7A9C9B97205BAD7DB1F6952B74EED6BF79E3B2DDC95362E1AD8D2F328D4CB9B2E5CB9831C77518D62063C6223743040DD82F6490558FA6BD0B152F5EB2A8B3AA7EEC96B651D96D3BFE9D8D7BE86EBB1F7F034ECD3AF06AD292831237EEB6F9F290AAB5B65DEE9A7A6EC249A7FA7EAEDC79EBD399C38B121F4FBEBCF9F3E8D3AB5FCFBEBDFBF7EF0302003B</td><td>no_image_available_small.gif</td><td>a25a44fb-c2de-4268-958f-110b8d7621e2</td><td>2008-03-11T10:01:36.827Z</td></tr><tr><td>709</td><td>Mountain Bike Socks, M</td><td>SO-B909-M</td><td>White</td><td>3.3963</td><td>9.5</td><td>M</td><td>null</td><td>27</td><td>18</td><td>2005-07-01T00:00:00Z</td><td>2006-06-30T00:00:00Z</td><td>null</td><td>0x47494638396150003100F70000000000800000008000808000000080800080008080808080C0C0C0FF000000FF00FFFF000000FFFF00FF00FFFFFFFFFF0000000000000000000000000000000000000000000000000000000000000000000000000000000000000000000000000000000000000000000000000000000000000000000000000000000000330000660000990000CC0000FF0033000033330033660033990033CC0033FF0066000066330066660066990066CC0066FF0099000099330099660099990099CC0099FF00CC0000CC3300CC6600CC9900CCCC00CCFF00FF0000FF3300FF6600FF9900FFCC00FFFF3300003300333300663300993300CC3300FF3333003333333333663333993333CC3333FF3366003366333366663366993366CC3366FF3399003399333399663399993399CC3399FF33CC0033CC3333CC6633CC9933CCCC33CCFF33FF0033FF3333FF6633FF9933FFCC33FFFF6600006600336600666600996600CC6600FF6633006633336633666633996633CC6633FF6666006666336666666666996666CC6666FF6699006699336699666699996699CC6699FF66CC0066CC3366CC6666CC9966CCCC66CCFF66FF0066FF3366FF6666FF9966FFCC66FFFF9900009900339900669900999900CC9900FF9933009933339933669933999933CC9933FF9966009966339966669966999966CC9966FF9999009999339999669999999999CC9999FF99CC0099CC3399CC6699CC9999CCCC99CCFF99FF0099FF3399FF6699FF9999FFCC99FFFFCC0000CC0033CC0066CC0099CC00CCCC00FFCC3300CC3333CC3366CC3399CC33CCCC33FFCC6600CC6633CC6666CC6699CC66CCCC66FFCC9900CC9933CC9966CC9999CC99CCCC99FFCCCC00CCCC33CCCC66CCCC99CCCCCCCCCCFFCCFF00CCFF33CCFF66CCFF99CCFFCCCCFFFFFF0000FF0033FF0066FF0099FF00CCFF00FFFF3300FF3333FF3366FF3399FF33CCFF33FFFF6600FF6633FF6666FF6699FF66CCFF66FFFF9900FF9933FF9966FF9999FF99CCFF99FFFFCC00FFCC33FFCC66FFCC99FFCCCCFFCCFFFFFF00FFFF33FFFF66FFFF99FFFFCCFFFFFF21F90401000010002C00000000500031000008FF00FF091C48B0A0C18308132A5CC8B0A1C38710234A9C48B1A2C58B18336ADCC8B1A3C78F20438A1C49B2A4C9932853AA5C9911058A812E17C664F9D0E5CB7F3313E6A4C9D0A6C099366FC27C19D367CEA04371DE44CA1169D1A542952A25FA1467D2A7547F46C558542AD0A855A58A9D9AD52BD4A654C3EE547BD6AC58AC3E377E2DBB96EED9AF6FCB7A9C9B97205BAD7DB1F6952B74EED6BF79E3B2DDC95362E1AD8D2F328D4CB9B2E5CB9831C77518D62063C6223743040DD82F6490558FA6BD0B152F5EB2A8B3AA7EEC96B651D96D3BFE9D8D7BE86EBB1F7F034ECD3AF06AD292831237EEB6F9F290AAB5B65DEE9A7A6EC249A7FA7EAEDC79EBD399C38B121F4FBEBCF9F3E8D3AB5FCFBEBDFBF7EF0302003B</td><td>no_image_available_small.gif</td><td>18f95f47-1540-4e02-8f1f-cc1bcb6828d0</td><td>2008-03-11T10:01:36.827Z</td></tr></tbody></table></div>"
      ]
     },
     "metadata": {
      "application/vnd.databricks.v1+output": {
       "addedWidgets": {},
       "aggData": [],
       "aggError": "",
       "aggOverflow": false,
       "aggSchema": [],
       "aggSeriesLimitReached": false,
       "aggType": "",
       "arguments": {},
       "columnCustomDisplayInfos": {},
       "data": [
        [
         680,
         "HL Road Frame - Black, 58",
         "FR-R92B-58",
         "Black",
         1059.31,
         1431.5,
         "58",
         1016.04,
         18,
         6,
         "2002-06-01T00:00:00Z",
         null,
         null,
         "0x47494638396150003100F70000000000800000008000808000000080800080008080808080C0C0C0FF000000FF00FFFF000000FFFF00FF00FFFFFFFFFF0000000000000000000000000000000000000000000000000000000000000000000000000000000000000000000000000000000000000000000000000000000000000000000000000000000000330000660000990000CC0000FF0033000033330033660033990033CC0033FF0066000066330066660066990066CC0066FF0099000099330099660099990099CC0099FF00CC0000CC3300CC6600CC9900CCCC00CCFF00FF0000FF3300FF6600FF9900FFCC00FFFF3300003300333300663300993300CC3300FF3333003333333333663333993333CC3333FF3366003366333366663366993366CC3366FF3399003399333399663399993399CC3399FF33CC0033CC3333CC6633CC9933CCCC33CCFF33FF0033FF3333FF6633FF9933FFCC33FFFF6600006600336600666600996600CC6600FF6633006633336633666633996633CC6633FF6666006666336666666666996666CC6666FF6699006699336699666699996699CC6699FF66CC0066CC3366CC6666CC9966CCCC66CCFF66FF0066FF3366FF6666FF9966FFCC66FFFF9900009900339900669900999900CC9900FF9933009933339933669933999933CC9933FF9966009966339966669966999966CC9966FF9999009999339999669999999999CC9999FF99CC0099CC3399CC6699CC9999CCCC99CCFF99FF0099FF3399FF6699FF9999FFCC99FFFFCC0000CC0033CC0066CC0099CC00CCCC00FFCC3300CC3333CC3366CC3399CC33CCCC33FFCC6600CC6633CC6666CC6699CC66CCCC66FFCC9900CC9933CC9966CC9999CC99CCCC99FFCCCC00CCCC33CCCC66CCCC99CCCCCCCCCCFFCCFF00CCFF33CCFF66CCFF99CCFFCCCCFFFFFF0000FF0033FF0066FF0099FF00CCFF00FFFF3300FF3333FF3366FF3399FF33CCFF33FFFF6600FF6633FF6666FF6699FF66CCFF66FFFF9900FF9933FF9966FF9999FF99CCFF99FFFFCC00FFCC33FFCC66FFCC99FFCCCCFFCCFFFFFF00FFFF33FFFF66FFFF99FFFFCCFFFFFF21F90401000010002C00000000500031000008FF00FF091C48B0A0C18308132A5CC8B0A1C38710234A9C48B1A2C58B18336ADCC8B1A3C78F20438A1C49B2A4C9932853AA5C9911058A812E17C664F9D0E5CB7F3313E6A4C9D0A6C099366FC27C19D367CEA04371DE44CA1169D1A542952A25FA1467D2A7547F46C558542AD0A855A58A9D9AD52BD4A654C3EE547BD6AC58AC3E377E2DBB96EED9AF6FCB7A9C9B97205BAD7DB1F6952B74EED6BF79E3B2DDC95362E1AD8D2F328D4CB9B2E5CB9831C77518D62063C6223743040DD82F6490558FA6BD0B152F5EB2A8B3AA7EEC96B651D96D3BFE9D8D7BE86EBB1F7F034ECD3AF06AD292831237EEB6F9F290AAB5B65DEE9A7A6EC249A7FA7EAEDC79EBD399C38B121F4FBEBCF9F3E8D3AB5FCFBEBDFBF7EF0302003B",
         "no_image_available_small.gif",
         "43dd68d6-14a4-461f-9069-55309d90ea7e",
         "2008-03-11T10:01:36.827Z"
        ],
        [
         706,
         "HL Road Frame - Red, 58",
         "FR-R92R-58",
         "Red",
         1059.31,
         1431.5,
         "58",
         1016.04,
         18,
         6,
         "2002-06-01T00:00:00Z",
         null,
         null,
         "0x47494638396150003100F70000000000800000008000808000000080800080008080808080C0C0C0FF000000FF00FFFF000000FFFF00FF00FFFFFFFFFF0000000000000000000000000000000000000000000000000000000000000000000000000000000000000000000000000000000000000000000000000000000000000000000000000000000000330000660000990000CC0000FF0033000033330033660033990033CC0033FF0066000066330066660066990066CC0066FF0099000099330099660099990099CC0099FF00CC0000CC3300CC6600CC9900CCCC00CCFF00FF0000FF3300FF6600FF9900FFCC00FFFF3300003300333300663300993300CC3300FF3333003333333333663333993333CC3333FF3366003366333366663366993366CC3366FF3399003399333399663399993399CC3399FF33CC0033CC3333CC6633CC9933CCCC33CCFF33FF0033FF3333FF6633FF9933FFCC33FFFF6600006600336600666600996600CC6600FF6633006633336633666633996633CC6633FF6666006666336666666666996666CC6666FF6699006699336699666699996699CC6699FF66CC0066CC3366CC6666CC9966CCCC66CCFF66FF0066FF3366FF6666FF9966FFCC66FFFF9900009900339900669900999900CC9900FF9933009933339933669933999933CC9933FF9966009966339966669966999966CC9966FF9999009999339999669999999999CC9999FF99CC0099CC3399CC6699CC9999CCCC99CCFF99FF0099FF3399FF6699FF9999FFCC99FFFFCC0000CC0033CC0066CC0099CC00CCCC00FFCC3300CC3333CC3366CC3399CC33CCCC33FFCC6600CC6633CC6666CC6699CC66CCCC66FFCC9900CC9933CC9966CC9999CC99CCCC99FFCCCC00CCCC33CCCC66CCCC99CCCCCCCCCCFFCCFF00CCFF33CCFF66CCFF99CCFFCCCCFFFFFF0000FF0033FF0066FF0099FF00CCFF00FFFF3300FF3333FF3366FF3399FF33CCFF33FFFF6600FF6633FF6666FF6699FF66CCFF66FFFF9900FF9933FF9966FF9999FF99CCFF99FFFFCC00FFCC33FFCC66FFCC99FFCCCCFFCCFFFFFF00FFFF33FFFF66FFFF99FFFFCCFFFFFF21F90401000010002C00000000500031000008FF00FF091C48B0A0C18308132A5CC8B0A1C38710234A9C48B1A2C58B18336ADCC8B1A3C78F20438A1C49B2A4C9932853AA5C9911058A812E17C664F9D0E5CB7F3313E6A4C9D0A6C099366FC27C19D367CEA04371DE44CA1169D1A542952A25FA1467D2A7547F46C558542AD0A855A58A9D9AD52BD4A654C3EE547BD6AC58AC3E377E2DBB96EED9AF6FCB7A9C9B97205BAD7DB1F6952B74EED6BF79E3B2DDC95362E1AD8D2F328D4CB9B2E5CB9831C77518D62063C6223743040DD82F6490558FA6BD0B152F5EB2A8B3AA7EEC96B651D96D3BFE9D8D7BE86EBB1F7F034ECD3AF06AD292831237EEB6F9F290AAB5B65DEE9A7A6EC249A7FA7EAEDC79EBD399C38B121F4FBEBCF9F3E8D3AB5FCFBEBDFBF7EF0302003B",
         "no_image_available_small.gif",
         "9540ff17-2712-4c90-a3d1-8ce5568b2462",
         "2008-03-11T10:01:36.827Z"
        ],
        [
         707,
         "Sport-100 Helmet, Red",
         "HL-U509-R",
         "Red",
         13.0863,
         34.99,
         null,
         null,
         35,
         33,
         "2005-07-01T00:00:00Z",
         null,
         null,
         "0x47494638396150003100F70000000000800000008000808000000080800080008080808080C0C0C0FF000000FF00FFFF000000FFFF00FF00FFFFFFFFFF0000000000000000000000000000000000000000000000000000000000000000000000000000000000000000000000000000000000000000000000000000000000000000000000000000000000330000660000990000CC0000FF0033000033330033660033990033CC0033FF0066000066330066660066990066CC0066FF0099000099330099660099990099CC0099FF00CC0000CC3300CC6600CC9900CCCC00CCFF00FF0000FF3300FF6600FF9900FFCC00FFFF3300003300333300663300993300CC3300FF3333003333333333663333993333CC3333FF3366003366333366663366993366CC3366FF3399003399333399663399993399CC3399FF33CC0033CC3333CC6633CC9933CCCC33CCFF33FF0033FF3333FF6633FF9933FFCC33FFFF6600006600336600666600996600CC6600FF6633006633336633666633996633CC6633FF6666006666336666666666996666CC6666FF6699006699336699666699996699CC6699FF66CC0066CC3366CC6666CC9966CCCC66CCFF66FF0066FF3366FF6666FF9966FFCC66FFFF9900009900339900669900999900CC9900FF9933009933339933669933999933CC9933FF9966009966339966669966999966CC9966FF9999009999339999669999999999CC9999FF99CC0099CC3399CC6699CC9999CCCC99CCFF99FF0099FF3399FF6699FF9999FFCC99FFFFCC0000CC0033CC0066CC0099CC00CCCC00FFCC3300CC3333CC3366CC3399CC33CCCC33FFCC6600CC6633CC6666CC6699CC66CCCC66FFCC9900CC9933CC9966CC9999CC99CCCC99FFCCCC00CCCC33CCCC66CCCC99CCCCCCCCCCFFCCFF00CCFF33CCFF66CCFF99CCFFCCCCFFFFFF0000FF0033FF0066FF0099FF00CCFF00FFFF3300FF3333FF3366FF3399FF33CCFF33FFFF6600FF6633FF6666FF6699FF66CCFF66FFFF9900FF9933FF9966FF9999FF99CCFF99FFFFCC00FFCC33FFCC66FFCC99FFCCCCFFCCFFFFFF00FFFF33FFFF66FFFF99FFFFCCFFFFFF21F90401000010002C00000000500031000008FF00FF091C48B0A0C18308132A5CC8B0A1C38710234A9C48B1A2C58B18336ADCC8B1A3C78F20438A1C49B2A4C9932853AA5C9911058A812E17C664F9D0E5CB7F3313E6A4C9D0A6C099366FC27C19D367CEA04371DE44CA1169D1A542952A25FA1467D2A7547F46C558542AD0A855A58A9D9AD52BD4A654C3EE547BD6AC58AC3E377E2DBB96EED9AF6FCB7A9C9B97205BAD7DB1F6952B74EED6BF79E3B2DDC95362E1AD8D2F328D4CB9B2E5CB9831C77518D62063C6223743040DD82F6490558FA6BD0B152F5EB2A8B3AA7EEC96B651D96D3BFE9D8D7BE86EBB1F7F034ECD3AF06AD292831237EEB6F9F290AAB5B65DEE9A7A6EC249A7FA7EAEDC79EBD399C38B121F4FBEBCF9F3E8D3AB5FCFBEBDFBF7EF0302003B",
         "no_image_available_small.gif",
         "2e1ef41a-c08a-4ff6-8ada-bde58b64a712",
         "2008-03-11T10:01:36.827Z"
        ],
        [
         708,
         "Sport-100 Helmet, Black",
         "HL-U509",
         "Black",
         13.0863,
         34.99,
         null,
         null,
         35,
         33,
         "2005-07-01T00:00:00Z",
         null,
         null,
         "0x47494638396150003100F70000000000800000008000808000000080800080008080808080C0C0C0FF000000FF00FFFF000000FFFF00FF00FFFFFFFFFF0000000000000000000000000000000000000000000000000000000000000000000000000000000000000000000000000000000000000000000000000000000000000000000000000000000000330000660000990000CC0000FF0033000033330033660033990033CC0033FF0066000066330066660066990066CC0066FF0099000099330099660099990099CC0099FF00CC0000CC3300CC6600CC9900CCCC00CCFF00FF0000FF3300FF6600FF9900FFCC00FFFF3300003300333300663300993300CC3300FF3333003333333333663333993333CC3333FF3366003366333366663366993366CC3366FF3399003399333399663399993399CC3399FF33CC0033CC3333CC6633CC9933CCCC33CCFF33FF0033FF3333FF6633FF9933FFCC33FFFF6600006600336600666600996600CC6600FF6633006633336633666633996633CC6633FF6666006666336666666666996666CC6666FF6699006699336699666699996699CC6699FF66CC0066CC3366CC6666CC9966CCCC66CCFF66FF0066FF3366FF6666FF9966FFCC66FFFF9900009900339900669900999900CC9900FF9933009933339933669933999933CC9933FF9966009966339966669966999966CC9966FF9999009999339999669999999999CC9999FF99CC0099CC3399CC6699CC9999CCCC99CCFF99FF0099FF3399FF6699FF9999FFCC99FFFFCC0000CC0033CC0066CC0099CC00CCCC00FFCC3300CC3333CC3366CC3399CC33CCCC33FFCC6600CC6633CC6666CC6699CC66CCCC66FFCC9900CC9933CC9966CC9999CC99CCCC99FFCCCC00CCCC33CCCC66CCCC99CCCCCCCCCCFFCCFF00CCFF33CCFF66CCFF99CCFFCCCCFFFFFF0000FF0033FF0066FF0099FF00CCFF00FFFF3300FF3333FF3366FF3399FF33CCFF33FFFF6600FF6633FF6666FF6699FF66CCFF66FFFF9900FF9933FF9966FF9999FF99CCFF99FFFFCC00FFCC33FFCC66FFCC99FFCCCCFFCCFFFFFF00FFFF33FFFF66FFFF99FFFFCCFFFFFF21F90401000010002C00000000500031000008FF00FF091C48B0A0C18308132A5CC8B0A1C38710234A9C48B1A2C58B18336ADCC8B1A3C78F20438A1C49B2A4C9932853AA5C9911058A812E17C664F9D0E5CB7F3313E6A4C9D0A6C099366FC27C19D367CEA04371DE44CA1169D1A542952A25FA1467D2A7547F46C558542AD0A855A58A9D9AD52BD4A654C3EE547BD6AC58AC3E377E2DBB96EED9AF6FCB7A9C9B97205BAD7DB1F6952B74EED6BF79E3B2DDC95362E1AD8D2F328D4CB9B2E5CB9831C77518D62063C6223743040DD82F6490558FA6BD0B152F5EB2A8B3AA7EEC96B651D96D3BFE9D8D7BE86EBB1F7F034ECD3AF06AD292831237EEB6F9F290AAB5B65DEE9A7A6EC249A7FA7EAEDC79EBD399C38B121F4FBEBCF9F3E8D3AB5FCFBEBDFBF7EF0302003B",
         "no_image_available_small.gif",
         "a25a44fb-c2de-4268-958f-110b8d7621e2",
         "2008-03-11T10:01:36.827Z"
        ],
        [
         709,
         "Mountain Bike Socks, M",
         "SO-B909-M",
         "White",
         3.3963,
         9.5,
         "M",
         null,
         27,
         18,
         "2005-07-01T00:00:00Z",
         "2006-06-30T00:00:00Z",
         null,
         "0x47494638396150003100F70000000000800000008000808000000080800080008080808080C0C0C0FF000000FF00FFFF000000FFFF00FF00FFFFFFFFFF0000000000000000000000000000000000000000000000000000000000000000000000000000000000000000000000000000000000000000000000000000000000000000000000000000000000330000660000990000CC0000FF0033000033330033660033990033CC0033FF0066000066330066660066990066CC0066FF0099000099330099660099990099CC0099FF00CC0000CC3300CC6600CC9900CCCC00CCFF00FF0000FF3300FF6600FF9900FFCC00FFFF3300003300333300663300993300CC3300FF3333003333333333663333993333CC3333FF3366003366333366663366993366CC3366FF3399003399333399663399993399CC3399FF33CC0033CC3333CC6633CC9933CCCC33CCFF33FF0033FF3333FF6633FF9933FFCC33FFFF6600006600336600666600996600CC6600FF6633006633336633666633996633CC6633FF6666006666336666666666996666CC6666FF6699006699336699666699996699CC6699FF66CC0066CC3366CC6666CC9966CCCC66CCFF66FF0066FF3366FF6666FF9966FFCC66FFFF9900009900339900669900999900CC9900FF9933009933339933669933999933CC9933FF9966009966339966669966999966CC9966FF9999009999339999669999999999CC9999FF99CC0099CC3399CC6699CC9999CCCC99CCFF99FF0099FF3399FF6699FF9999FFCC99FFFFCC0000CC0033CC0066CC0099CC00CCCC00FFCC3300CC3333CC3366CC3399CC33CCCC33FFCC6600CC6633CC6666CC6699CC66CCCC66FFCC9900CC9933CC9966CC9999CC99CCCC99FFCCCC00CCCC33CCCC66CCCC99CCCCCCCCCCFFCCFF00CCFF33CCFF66CCFF99CCFFCCCCFFFFFF0000FF0033FF0066FF0099FF00CCFF00FFFF3300FF3333FF3366FF3399FF33CCFF33FFFF6600FF6633FF6666FF6699FF66CCFF66FFFF9900FF9933FF9966FF9999FF99CCFF99FFFFCC00FFCC33FFCC66FFCC99FFCCCCFFCCFFFFFF00FFFF33FFFF66FFFF99FFFFCCFFFFFF21F90401000010002C00000000500031000008FF00FF091C48B0A0C18308132A5CC8B0A1C38710234A9C48B1A2C58B18336ADCC8B1A3C78F20438A1C49B2A4C9932853AA5C9911058A812E17C664F9D0E5CB7F3313E6A4C9D0A6C099366FC27C19D367CEA04371DE44CA1169D1A542952A25FA1467D2A7547F46C558542AD0A855A58A9D9AD52BD4A654C3EE547BD6AC58AC3E377E2DBB96EED9AF6FCB7A9C9B97205BAD7DB1F6952B74EED6BF79E3B2DDC95362E1AD8D2F328D4CB9B2E5CB9831C77518D62063C6223743040DD82F6490558FA6BD0B152F5EB2A8B3AA7EEC96B651D96D3BFE9D8D7BE86EBB1F7F034ECD3AF06AD292831237EEB6F9F290AAB5B65DEE9A7A6EC249A7FA7EAEDC79EBD399C38B121F4FBEBCF9F3E8D3AB5FCFBEBDFBF7EF0302003B",
         "no_image_available_small.gif",
         "18f95f47-1540-4e02-8f1f-cc1bcb6828d0",
         "2008-03-11T10:01:36.827Z"
        ]
       ],
       "datasetInfos": [],
       "dbfsResultPath": null,
       "isJsonSchema": true,
       "metadata": {},
       "overflow": false,
       "plotOptions": {
        "customPlotOptions": {},
        "displayType": "table",
        "pivotAggregation": null,
        "pivotColumns": null,
        "xColumns": null,
        "yColumns": null
       },
       "removedWidgets": [],
       "schema": [
        {
         "metadata": "{}",
         "name": "ProductID",
         "type": "\"integer\""
        },
        {
         "metadata": "{}",
         "name": "Name",
         "type": "\"string\""
        },
        {
         "metadata": "{}",
         "name": "ProductNumber",
         "type": "\"string\""
        },
        {
         "metadata": "{}",
         "name": "Color",
         "type": "\"string\""
        },
        {
         "metadata": "{}",
         "name": "StandardCost",
         "type": "\"double\""
        },
        {
         "metadata": "{}",
         "name": "ListPrice",
         "type": "\"double\""
        },
        {
         "metadata": "{}",
         "name": "Size",
         "type": "\"string\""
        },
        {
         "metadata": "{}",
         "name": "Weight",
         "type": "\"double\""
        },
        {
         "metadata": "{}",
         "name": "ProductCategoryID",
         "type": "\"integer\""
        },
        {
         "metadata": "{}",
         "name": "ProductModelID",
         "type": "\"integer\""
        },
        {
         "metadata": "{}",
         "name": "SellStartDate",
         "type": "\"timestamp\""
        },
        {
         "metadata": "{}",
         "name": "SellEndDate",
         "type": "\"timestamp\""
        },
        {
         "metadata": "{}",
         "name": "DiscontinuedDate",
         "type": "\"string\""
        },
        {
         "metadata": "{}",
         "name": "ThumbNailPhoto",
         "type": "\"string\""
        },
        {
         "metadata": "{}",
         "name": "ThumbnailPhotoFileName",
         "type": "\"string\""
        },
        {
         "metadata": "{}",
         "name": "rowguid",
         "type": "\"string\""
        },
        {
         "metadata": "{}",
         "name": "ModifiedDate",
         "type": "\"timestamp\""
        }
       ],
       "type": "table"
      }
     },
     "output_type": "display_data"
    }
   ],
   "source": [
    "df_prod = spark.read.format('csv').option('header', True).\\\n",
    "    option('inferSchema', True).\\\n",
    "        load('abfss://bronze@dlpracticenajeeb.dfs.core.windows.net/SalesLT/Product.csv')\n",
    "df_prod.limit(5).display()"
   ]
  },
  {
   "cell_type": "markdown",
   "metadata": {
    "application/vnd.databricks.v1+cell": {
     "cellMetadata": {
      "byteLimit": 2048000,
      "rowLimit": 10000
     },
     "inputWidgets": {},
     "nuid": "66cd4451-ae42-4c9b-ab17-3f705f19ee39",
     "showTitle": false,
     "tableResultSettingsMap": {},
     "title": ""
    }
   },
   "source": [
    "#### Drop Columns"
   ]
  },
  {
   "cell_type": "code",
   "execution_count": 0,
   "metadata": {
    "application/vnd.databricks.v1+cell": {
     "cellMetadata": {
      "byteLimit": 2048000,
      "rowLimit": 10000
     },
     "inputWidgets": {},
     "nuid": "278ef88d-e396-45ca-b0b8-0f6ffca6190f",
     "showTitle": false,
     "tableResultSettingsMap": {},
     "title": ""
    }
   },
   "outputs": [
    {
     "output_type": "display_data",
     "data": {
      "text/html": [
       "<style scoped>\n",
       "  .table-result-container {\n",
       "    max-height: 300px;\n",
       "    overflow: auto;\n",
       "  }\n",
       "  table, th, td {\n",
       "    border: 1px solid black;\n",
       "    border-collapse: collapse;\n",
       "  }\n",
       "  th, td {\n",
       "    padding: 5px;\n",
       "  }\n",
       "  th {\n",
       "    text-align: left;\n",
       "  }\n",
       "</style><div class='table-result-container'><table class='table-result'><thead style='background-color: white'><tr><th>ProductID</th><th>Name</th><th>ProductNumber</th><th>Color</th><th>StandardCost</th><th>ListPrice</th><th>Size</th><th>Weight</th><th>ProductCategoryID</th><th>ProductModelID</th><th>SellStartDate</th><th>SellEndDate</th><th>ModifiedDate</th></tr></thead><tbody><tr><td>680</td><td>HL Road Frame - Black, 58</td><td>FR-R92B-58</td><td>Black</td><td>1059.31</td><td>1431.5</td><td>58</td><td>1016.04</td><td>18</td><td>6</td><td>2002-06-01T00:00:00Z</td><td>null</td><td>2008-03-11T10:01:36.827Z</td></tr><tr><td>706</td><td>HL Road Frame - Red, 58</td><td>FR-R92R-58</td><td>Red</td><td>1059.31</td><td>1431.5</td><td>58</td><td>1016.04</td><td>18</td><td>6</td><td>2002-06-01T00:00:00Z</td><td>null</td><td>2008-03-11T10:01:36.827Z</td></tr><tr><td>707</td><td>Sport-100 Helmet, Red</td><td>HL-U509-R</td><td>Red</td><td>13.0863</td><td>34.99</td><td>null</td><td>null</td><td>35</td><td>33</td><td>2005-07-01T00:00:00Z</td><td>null</td><td>2008-03-11T10:01:36.827Z</td></tr><tr><td>708</td><td>Sport-100 Helmet, Black</td><td>HL-U509</td><td>Black</td><td>13.0863</td><td>34.99</td><td>null</td><td>null</td><td>35</td><td>33</td><td>2005-07-01T00:00:00Z</td><td>null</td><td>2008-03-11T10:01:36.827Z</td></tr><tr><td>709</td><td>Mountain Bike Socks, M</td><td>SO-B909-M</td><td>White</td><td>3.3963</td><td>9.5</td><td>M</td><td>null</td><td>27</td><td>18</td><td>2005-07-01T00:00:00Z</td><td>2006-06-30T00:00:00Z</td><td>2008-03-11T10:01:36.827Z</td></tr></tbody></table></div>"
      ]
     },
     "metadata": {
      "application/vnd.databricks.v1+output": {
       "addedWidgets": {},
       "aggData": [],
       "aggError": "",
       "aggOverflow": false,
       "aggSchema": [],
       "aggSeriesLimitReached": false,
       "aggType": "",
       "arguments": {},
       "columnCustomDisplayInfos": {},
       "data": [
        [
         680,
         "HL Road Frame - Black, 58",
         "FR-R92B-58",
         "Black",
         1059.31,
         1431.5,
         "58",
         1016.04,
         18,
         6,
         "2002-06-01T00:00:00Z",
         null,
         "2008-03-11T10:01:36.827Z"
        ],
        [
         706,
         "HL Road Frame - Red, 58",
         "FR-R92R-58",
         "Red",
         1059.31,
         1431.5,
         "58",
         1016.04,
         18,
         6,
         "2002-06-01T00:00:00Z",
         null,
         "2008-03-11T10:01:36.827Z"
        ],
        [
         707,
         "Sport-100 Helmet, Red",
         "HL-U509-R",
         "Red",
         13.0863,
         34.99,
         null,
         null,
         35,
         33,
         "2005-07-01T00:00:00Z",
         null,
         "2008-03-11T10:01:36.827Z"
        ],
        [
         708,
         "Sport-100 Helmet, Black",
         "HL-U509",
         "Black",
         13.0863,
         34.99,
         null,
         null,
         35,
         33,
         "2005-07-01T00:00:00Z",
         null,
         "2008-03-11T10:01:36.827Z"
        ],
        [
         709,
         "Mountain Bike Socks, M",
         "SO-B909-M",
         "White",
         3.3963,
         9.5,
         "M",
         null,
         27,
         18,
         "2005-07-01T00:00:00Z",
         "2006-06-30T00:00:00Z",
         "2008-03-11T10:01:36.827Z"
        ]
       ],
       "datasetInfos": [],
       "dbfsResultPath": null,
       "isJsonSchema": true,
       "metadata": {},
       "overflow": false,
       "plotOptions": {
        "customPlotOptions": {},
        "displayType": "table",
        "pivotAggregation": null,
        "pivotColumns": null,
        "xColumns": null,
        "yColumns": null
       },
       "removedWidgets": [],
       "schema": [
        {
         "metadata": "{}",
         "name": "ProductID",
         "type": "\"integer\""
        },
        {
         "metadata": "{}",
         "name": "Name",
         "type": "\"string\""
        },
        {
         "metadata": "{}",
         "name": "ProductNumber",
         "type": "\"string\""
        },
        {
         "metadata": "{}",
         "name": "Color",
         "type": "\"string\""
        },
        {
         "metadata": "{}",
         "name": "StandardCost",
         "type": "\"double\""
        },
        {
         "metadata": "{}",
         "name": "ListPrice",
         "type": "\"double\""
        },
        {
         "metadata": "{}",
         "name": "Size",
         "type": "\"string\""
        },
        {
         "metadata": "{}",
         "name": "Weight",
         "type": "\"double\""
        },
        {
         "metadata": "{}",
         "name": "ProductCategoryID",
         "type": "\"integer\""
        },
        {
         "metadata": "{}",
         "name": "ProductModelID",
         "type": "\"integer\""
        },
        {
         "metadata": "{}",
         "name": "SellStartDate",
         "type": "\"timestamp\""
        },
        {
         "metadata": "{}",
         "name": "SellEndDate",
         "type": "\"timestamp\""
        },
        {
         "metadata": "{}",
         "name": "ModifiedDate",
         "type": "\"timestamp\""
        }
       ],
       "type": "table"
      }
     },
     "output_type": "display_data"
    }
   ],
   "source": [
    "df_prod = df_prod.drop('rowguid', 'ThumbNailPhoto', 'ThumbnailPhotoFileName', 'DiscontinuedDate')\n",
    "df_prod.limit(5).display()"
   ]
  },
  {
   "cell_type": "markdown",
   "metadata": {
    "application/vnd.databricks.v1+cell": {
     "cellMetadata": {
      "byteLimit": 2048000,
      "rowLimit": 10000
     },
     "inputWidgets": {},
     "nuid": "9333c580-a415-4af3-b67c-0c220a288d4f",
     "showTitle": false,
     "tableResultSettingsMap": {},
     "title": ""
    }
   },
   "source": [
    "#### Fill Null in SellEndDate with today's Date"
   ]
  },
  {
   "cell_type": "code",
   "execution_count": 0,
   "metadata": {
    "application/vnd.databricks.v1+cell": {
     "cellMetadata": {
      "byteLimit": 2048000,
      "rowLimit": 10000
     },
     "inputWidgets": {},
     "nuid": "67a93ca7-4854-423d-a563-b5f6db7c823a",
     "showTitle": false,
     "tableResultSettingsMap": {},
     "title": ""
    }
   },
   "outputs": [
    {
     "output_type": "display_data",
     "data": {
      "text/html": [
       "<style scoped>\n",
       "  .table-result-container {\n",
       "    max-height: 300px;\n",
       "    overflow: auto;\n",
       "  }\n",
       "  table, th, td {\n",
       "    border: 1px solid black;\n",
       "    border-collapse: collapse;\n",
       "  }\n",
       "  th, td {\n",
       "    padding: 5px;\n",
       "  }\n",
       "  th {\n",
       "    text-align: left;\n",
       "  }\n",
       "</style><div class='table-result-container'><table class='table-result'><thead style='background-color: white'><tr><th>ProductID</th><th>Name</th><th>ProductNumber</th><th>Color</th><th>StandardCost</th><th>ListPrice</th><th>Size</th><th>Weight</th><th>ProductCategoryID</th><th>ProductModelID</th><th>SellStartDate</th><th>SellEndDate</th><th>ModifiedDate</th></tr></thead><tbody><tr><td>680</td><td>HL Road Frame - Black, 58</td><td>FR-R92B-58</td><td>Black</td><td>1059.31</td><td>1431.5</td><td>58</td><td>1016.04</td><td>18</td><td>6</td><td>2002-06-01T00:00:00Z</td><td>2025-04-08T00:00:00Z</td><td>2008-03-11T10:01:36.827Z</td></tr><tr><td>706</td><td>HL Road Frame - Red, 58</td><td>FR-R92R-58</td><td>Red</td><td>1059.31</td><td>1431.5</td><td>58</td><td>1016.04</td><td>18</td><td>6</td><td>2002-06-01T00:00:00Z</td><td>2025-04-08T00:00:00Z</td><td>2008-03-11T10:01:36.827Z</td></tr><tr><td>707</td><td>Sport-100 Helmet, Red</td><td>HL-U509-R</td><td>Red</td><td>13.0863</td><td>34.99</td><td>null</td><td>null</td><td>35</td><td>33</td><td>2005-07-01T00:00:00Z</td><td>2025-04-08T00:00:00Z</td><td>2008-03-11T10:01:36.827Z</td></tr><tr><td>708</td><td>Sport-100 Helmet, Black</td><td>HL-U509</td><td>Black</td><td>13.0863</td><td>34.99</td><td>null</td><td>null</td><td>35</td><td>33</td><td>2005-07-01T00:00:00Z</td><td>2025-04-08T00:00:00Z</td><td>2008-03-11T10:01:36.827Z</td></tr><tr><td>709</td><td>Mountain Bike Socks, M</td><td>SO-B909-M</td><td>White</td><td>3.3963</td><td>9.5</td><td>M</td><td>null</td><td>27</td><td>18</td><td>2005-07-01T00:00:00Z</td><td>2006-06-30T00:00:00Z</td><td>2008-03-11T10:01:36.827Z</td></tr></tbody></table></div>"
      ]
     },
     "metadata": {
      "application/vnd.databricks.v1+output": {
       "addedWidgets": {},
       "aggData": [],
       "aggError": "",
       "aggOverflow": false,
       "aggSchema": [],
       "aggSeriesLimitReached": false,
       "aggType": "",
       "arguments": {},
       "columnCustomDisplayInfos": {},
       "data": [
        [
         680,
         "HL Road Frame - Black, 58",
         "FR-R92B-58",
         "Black",
         1059.31,
         1431.5,
         "58",
         1016.04,
         18,
         6,
         "2002-06-01T00:00:00Z",
         "2025-04-08T00:00:00Z",
         "2008-03-11T10:01:36.827Z"
        ],
        [
         706,
         "HL Road Frame - Red, 58",
         "FR-R92R-58",
         "Red",
         1059.31,
         1431.5,
         "58",
         1016.04,
         18,
         6,
         "2002-06-01T00:00:00Z",
         "2025-04-08T00:00:00Z",
         "2008-03-11T10:01:36.827Z"
        ],
        [
         707,
         "Sport-100 Helmet, Red",
         "HL-U509-R",
         "Red",
         13.0863,
         34.99,
         null,
         null,
         35,
         33,
         "2005-07-01T00:00:00Z",
         "2025-04-08T00:00:00Z",
         "2008-03-11T10:01:36.827Z"
        ],
        [
         708,
         "Sport-100 Helmet, Black",
         "HL-U509",
         "Black",
         13.0863,
         34.99,
         null,
         null,
         35,
         33,
         "2005-07-01T00:00:00Z",
         "2025-04-08T00:00:00Z",
         "2008-03-11T10:01:36.827Z"
        ],
        [
         709,
         "Mountain Bike Socks, M",
         "SO-B909-M",
         "White",
         3.3963,
         9.5,
         "M",
         null,
         27,
         18,
         "2005-07-01T00:00:00Z",
         "2006-06-30T00:00:00Z",
         "2008-03-11T10:01:36.827Z"
        ]
       ],
       "datasetInfos": [],
       "dbfsResultPath": null,
       "isJsonSchema": true,
       "metadata": {},
       "overflow": false,
       "plotOptions": {
        "customPlotOptions": {},
        "displayType": "table",
        "pivotAggregation": null,
        "pivotColumns": null,
        "xColumns": null,
        "yColumns": null
       },
       "removedWidgets": [],
       "schema": [
        {
         "metadata": "{}",
         "name": "ProductID",
         "type": "\"integer\""
        },
        {
         "metadata": "{}",
         "name": "Name",
         "type": "\"string\""
        },
        {
         "metadata": "{}",
         "name": "ProductNumber",
         "type": "\"string\""
        },
        {
         "metadata": "{}",
         "name": "Color",
         "type": "\"string\""
        },
        {
         "metadata": "{}",
         "name": "StandardCost",
         "type": "\"double\""
        },
        {
         "metadata": "{}",
         "name": "ListPrice",
         "type": "\"double\""
        },
        {
         "metadata": "{}",
         "name": "Size",
         "type": "\"string\""
        },
        {
         "metadata": "{}",
         "name": "Weight",
         "type": "\"double\""
        },
        {
         "metadata": "{}",
         "name": "ProductCategoryID",
         "type": "\"integer\""
        },
        {
         "metadata": "{}",
         "name": "ProductModelID",
         "type": "\"integer\""
        },
        {
         "metadata": "{}",
         "name": "SellStartDate",
         "type": "\"timestamp\""
        },
        {
         "metadata": "{}",
         "name": "SellEndDate",
         "type": "\"timestamp\""
        },
        {
         "metadata": "{}",
         "name": "ModifiedDate",
         "type": "\"timestamp\""
        }
       ],
       "type": "table"
      }
     },
     "output_type": "display_data"
    }
   ],
   "source": [
    "df_prod = df_prod.withColumn('SellEndDate', when(col('SellEndDate').isNull(), current_date()).otherwise(col('SellEndDate')))\n",
    "df_prod.limit(5).display()"
   ]
  },
  {
   "cell_type": "markdown",
   "metadata": {
    "application/vnd.databricks.v1+cell": {
     "cellMetadata": {
      "byteLimit": 2048000,
      "rowLimit": 10000
     },
     "inputWidgets": {},
     "nuid": "46ffd0fa-c796-4754-a301-89de83fc9050",
     "showTitle": false,
     "tableResultSettingsMap": {},
     "title": ""
    }
   },
   "source": [
    "#### Create Total Sale Duration Column (SellStartDate-SellEndDate)"
   ]
  },
  {
   "cell_type": "code",
   "execution_count": 0,
   "metadata": {
    "application/vnd.databricks.v1+cell": {
     "cellMetadata": {
      "byteLimit": 2048000,
      "rowLimit": 10000
     },
     "inputWidgets": {},
     "nuid": "fe2629a6-2e0a-4c7b-8909-f057e6a29bdb",
     "showTitle": false,
     "tableResultSettingsMap": {},
     "title": ""
    }
   },
   "outputs": [],
   "source": [
    "df_prod = df_prod.withColumn('SellDuration', datediff('SellEndDate', 'SellStartDate'))"
   ]
  },
  {
   "cell_type": "markdown",
   "metadata": {
    "application/vnd.databricks.v1+cell": {
     "cellMetadata": {
      "byteLimit": 2048000,
      "rowLimit": 10000
     },
     "inputWidgets": {},
     "nuid": "2456a0a5-e38e-4fc1-be31-bfa19bd6fae6",
     "showTitle": false,
     "tableResultSettingsMap": {},
     "title": ""
    }
   },
   "source": [
    "#### Format dates"
   ]
  },
  {
   "cell_type": "code",
   "execution_count": 0,
   "metadata": {
    "application/vnd.databricks.v1+cell": {
     "cellMetadata": {
      "byteLimit": 2048000,
      "rowLimit": 10000
     },
     "inputWidgets": {},
     "nuid": "5ae04a9f-3538-42f6-bf8c-b2e94e3a8889",
     "showTitle": false,
     "tableResultSettingsMap": {},
     "title": ""
    }
   },
   "outputs": [
    {
     "output_type": "display_data",
     "data": {
      "text/html": [
       "<style scoped>\n",
       "  .table-result-container {\n",
       "    max-height: 300px;\n",
       "    overflow: auto;\n",
       "  }\n",
       "  table, th, td {\n",
       "    border: 1px solid black;\n",
       "    border-collapse: collapse;\n",
       "  }\n",
       "  th, td {\n",
       "    padding: 5px;\n",
       "  }\n",
       "  th {\n",
       "    text-align: left;\n",
       "  }\n",
       "</style><div class='table-result-container'><table class='table-result'><thead style='background-color: white'><tr><th>ProductID</th><th>Name</th><th>ProductNumber</th><th>Color</th><th>StandardCost</th><th>ListPrice</th><th>Size</th><th>Weight</th><th>ProductCategoryID</th><th>ProductModelID</th><th>SellStartDate</th><th>SellEndDate</th><th>modifiedDate</th><th>SellDuration</th></tr></thead><tbody><tr><td>680</td><td>HL Road Frame - Black, 58</td><td>FR-R92B-58</td><td>Black</td><td>1059.31</td><td>1431.5</td><td>58</td><td>1016.04</td><td>18</td><td>6</td><td>01/06/2002</td><td>08/04/2025</td><td>11/03/2008</td><td>8347</td></tr><tr><td>706</td><td>HL Road Frame - Red, 58</td><td>FR-R92R-58</td><td>Red</td><td>1059.31</td><td>1431.5</td><td>58</td><td>1016.04</td><td>18</td><td>6</td><td>01/06/2002</td><td>08/04/2025</td><td>11/03/2008</td><td>8347</td></tr><tr><td>707</td><td>Sport-100 Helmet, Red</td><td>HL-U509-R</td><td>Red</td><td>13.0863</td><td>34.99</td><td>null</td><td>null</td><td>35</td><td>33</td><td>01/07/2005</td><td>08/04/2025</td><td>11/03/2008</td><td>7221</td></tr><tr><td>708</td><td>Sport-100 Helmet, Black</td><td>HL-U509</td><td>Black</td><td>13.0863</td><td>34.99</td><td>null</td><td>null</td><td>35</td><td>33</td><td>01/07/2005</td><td>08/04/2025</td><td>11/03/2008</td><td>7221</td></tr><tr><td>709</td><td>Mountain Bike Socks, M</td><td>SO-B909-M</td><td>White</td><td>3.3963</td><td>9.5</td><td>M</td><td>null</td><td>27</td><td>18</td><td>01/07/2005</td><td>30/06/2006</td><td>11/03/2008</td><td>364</td></tr></tbody></table></div>"
      ]
     },
     "metadata": {
      "application/vnd.databricks.v1+output": {
       "addedWidgets": {},
       "aggData": [],
       "aggError": "",
       "aggOverflow": false,
       "aggSchema": [],
       "aggSeriesLimitReached": false,
       "aggType": "",
       "arguments": {},
       "columnCustomDisplayInfos": {},
       "data": [
        [
         680,
         "HL Road Frame - Black, 58",
         "FR-R92B-58",
         "Black",
         1059.31,
         1431.5,
         "58",
         1016.04,
         18,
         6,
         "01/06/2002",
         "08/04/2025",
         "11/03/2008",
         8347
        ],
        [
         706,
         "HL Road Frame - Red, 58",
         "FR-R92R-58",
         "Red",
         1059.31,
         1431.5,
         "58",
         1016.04,
         18,
         6,
         "01/06/2002",
         "08/04/2025",
         "11/03/2008",
         8347
        ],
        [
         707,
         "Sport-100 Helmet, Red",
         "HL-U509-R",
         "Red",
         13.0863,
         34.99,
         null,
         null,
         35,
         33,
         "01/07/2005",
         "08/04/2025",
         "11/03/2008",
         7221
        ],
        [
         708,
         "Sport-100 Helmet, Black",
         "HL-U509",
         "Black",
         13.0863,
         34.99,
         null,
         null,
         35,
         33,
         "01/07/2005",
         "08/04/2025",
         "11/03/2008",
         7221
        ],
        [
         709,
         "Mountain Bike Socks, M",
         "SO-B909-M",
         "White",
         3.3963,
         9.5,
         "M",
         null,
         27,
         18,
         "01/07/2005",
         "30/06/2006",
         "11/03/2008",
         364
        ]
       ],
       "datasetInfos": [],
       "dbfsResultPath": null,
       "isJsonSchema": true,
       "metadata": {},
       "overflow": false,
       "plotOptions": {
        "customPlotOptions": {},
        "displayType": "table",
        "pivotAggregation": null,
        "pivotColumns": null,
        "xColumns": null,
        "yColumns": null
       },
       "removedWidgets": [],
       "schema": [
        {
         "metadata": "{}",
         "name": "ProductID",
         "type": "\"integer\""
        },
        {
         "metadata": "{}",
         "name": "Name",
         "type": "\"string\""
        },
        {
         "metadata": "{}",
         "name": "ProductNumber",
         "type": "\"string\""
        },
        {
         "metadata": "{}",
         "name": "Color",
         "type": "\"string\""
        },
        {
         "metadata": "{}",
         "name": "StandardCost",
         "type": "\"double\""
        },
        {
         "metadata": "{}",
         "name": "ListPrice",
         "type": "\"double\""
        },
        {
         "metadata": "{}",
         "name": "Size",
         "type": "\"string\""
        },
        {
         "metadata": "{}",
         "name": "Weight",
         "type": "\"double\""
        },
        {
         "metadata": "{}",
         "name": "ProductCategoryID",
         "type": "\"integer\""
        },
        {
         "metadata": "{}",
         "name": "ProductModelID",
         "type": "\"integer\""
        },
        {
         "metadata": "{}",
         "name": "SellStartDate",
         "type": "\"string\""
        },
        {
         "metadata": "{}",
         "name": "SellEndDate",
         "type": "\"string\""
        },
        {
         "metadata": "{}",
         "name": "modifiedDate",
         "type": "\"string\""
        },
        {
         "metadata": "{}",
         "name": "SellDuration",
         "type": "\"integer\""
        }
       ],
       "type": "table"
      }
     },
     "output_type": "display_data"
    }
   ],
   "source": [
    "df_prod = df_prod.withColumn('modifiedDate', date_format('ModifiedDate', 'dd/MM/yyyy')).\\\n",
    "                withColumn('SellStartDate', date_format('SellStartDate', 'dd/MM/yyyy')).\\\n",
    "                    withColumn('SellEndDate', date_format('SellEndDate', 'dd/MM/yyyy'))\n",
    "df_prod.limit(5).display()"
   ]
  },
  {
   "cell_type": "markdown",
   "metadata": {
    "application/vnd.databricks.v1+cell": {
     "cellMetadata": {
      "byteLimit": 2048000,
      "rowLimit": 10000
     },
     "inputWidgets": {},
     "nuid": "0a66bb1a-106b-47d6-b9f9-b41e31e21664",
     "showTitle": false,
     "tableResultSettingsMap": {},
     "title": ""
    }
   },
   "source": [
    "#### Print Schema\n"
   ]
  },
  {
   "cell_type": "code",
   "execution_count": 0,
   "metadata": {
    "application/vnd.databricks.v1+cell": {
     "cellMetadata": {
      "byteLimit": 2048000,
      "rowLimit": 10000
     },
     "inputWidgets": {},
     "nuid": "901602fa-6438-446c-b9a8-0265f25ccd5e",
     "showTitle": false,
     "tableResultSettingsMap": {},
     "title": ""
    }
   },
   "outputs": [
    {
     "output_type": "stream",
     "name": "stdout",
     "output_type": "stream",
     "text": [
      "root\n |-- ProductID: integer (nullable = true)\n |-- Name: string (nullable = true)\n |-- ProductNumber: string (nullable = true)\n |-- Color: string (nullable = true)\n |-- StandardCost: double (nullable = true)\n |-- ListPrice: double (nullable = true)\n |-- Size: string (nullable = true)\n |-- Weight: double (nullable = true)\n |-- ProductCategoryID: integer (nullable = true)\n |-- ProductModelID: integer (nullable = true)\n |-- SellStartDate: string (nullable = true)\n |-- SellEndDate: string (nullable = true)\n |-- modifiedDate: string (nullable = true)\n |-- SellDuration: integer (nullable = true)\n\n"
     ]
    }
   ],
   "source": [
    "df_prod.printSchema()"
   ]
  },
  {
   "cell_type": "markdown",
   "metadata": {
    "application/vnd.databricks.v1+cell": {
     "cellMetadata": {
      "byteLimit": 2048000,
      "rowLimit": 10000
     },
     "inputWidgets": {},
     "nuid": "29655884-00ea-4b93-9c26-562f663d61e3",
     "showTitle": false,
     "tableResultSettingsMap": {},
     "title": ""
    }
   },
   "source": [
    "#### Fill Null Values"
   ]
  },
  {
   "cell_type": "code",
   "execution_count": 0,
   "metadata": {
    "application/vnd.databricks.v1+cell": {
     "cellMetadata": {
      "byteLimit": 2048000,
      "rowLimit": 10000
     },
     "inputWidgets": {},
     "nuid": "55b255f7-f23b-46ec-b4bd-aedf46957b22",
     "showTitle": false,
     "tableResultSettingsMap": {},
     "title": ""
    }
   },
   "outputs": [
    {
     "output_type": "display_data",
     "data": {
      "text/html": [
       "<style scoped>\n",
       "  .table-result-container {\n",
       "    max-height: 300px;\n",
       "    overflow: auto;\n",
       "  }\n",
       "  table, th, td {\n",
       "    border: 1px solid black;\n",
       "    border-collapse: collapse;\n",
       "  }\n",
       "  th, td {\n",
       "    padding: 5px;\n",
       "  }\n",
       "  th {\n",
       "    text-align: left;\n",
       "  }\n",
       "</style><div class='table-result-container'><table class='table-result'><thead style='background-color: white'><tr><th>ProductID</th><th>Name</th><th>ProductNumber</th><th>Color</th><th>StandardCost</th><th>ListPrice</th><th>Size</th><th>Weight</th><th>ProductCategoryID</th><th>ProductModelID</th><th>SellStartDate</th><th>SellEndDate</th><th>modifiedDate</th><th>SellDuration</th></tr></thead><tbody><tr><td>680</td><td>HL Road Frame - Black, 58</td><td>FR-R92B-58</td><td>Black</td><td>1059.31</td><td>1431.5</td><td>58</td><td>1016.04</td><td>18</td><td>6</td><td>01/06/2002</td><td>08/04/2025</td><td>11/03/2008</td><td>8347</td></tr><tr><td>706</td><td>HL Road Frame - Red, 58</td><td>FR-R92R-58</td><td>Red</td><td>1059.31</td><td>1431.5</td><td>58</td><td>1016.04</td><td>18</td><td>6</td><td>01/06/2002</td><td>08/04/2025</td><td>11/03/2008</td><td>8347</td></tr><tr><td>707</td><td>Sport-100 Helmet, Red</td><td>HL-U509-R</td><td>Red</td><td>13.0863</td><td>34.99</td><td>N/A</td><td>0.0</td><td>35</td><td>33</td><td>01/07/2005</td><td>08/04/2025</td><td>11/03/2008</td><td>7221</td></tr><tr><td>708</td><td>Sport-100 Helmet, Black</td><td>HL-U509</td><td>Black</td><td>13.0863</td><td>34.99</td><td>N/A</td><td>0.0</td><td>35</td><td>33</td><td>01/07/2005</td><td>08/04/2025</td><td>11/03/2008</td><td>7221</td></tr><tr><td>709</td><td>Mountain Bike Socks, M</td><td>SO-B909-M</td><td>White</td><td>3.3963</td><td>9.5</td><td>M</td><td>0.0</td><td>27</td><td>18</td><td>01/07/2005</td><td>30/06/2006</td><td>11/03/2008</td><td>364</td></tr></tbody></table></div>"
      ]
     },
     "metadata": {
      "application/vnd.databricks.v1+output": {
       "addedWidgets": {},
       "aggData": [],
       "aggError": "",
       "aggOverflow": false,
       "aggSchema": [],
       "aggSeriesLimitReached": false,
       "aggType": "",
       "arguments": {},
       "columnCustomDisplayInfos": {},
       "data": [
        [
         680,
         "HL Road Frame - Black, 58",
         "FR-R92B-58",
         "Black",
         1059.31,
         1431.5,
         "58",
         1016.04,
         18,
         6,
         "01/06/2002",
         "08/04/2025",
         "11/03/2008",
         8347
        ],
        [
         706,
         "HL Road Frame - Red, 58",
         "FR-R92R-58",
         "Red",
         1059.31,
         1431.5,
         "58",
         1016.04,
         18,
         6,
         "01/06/2002",
         "08/04/2025",
         "11/03/2008",
         8347
        ],
        [
         707,
         "Sport-100 Helmet, Red",
         "HL-U509-R",
         "Red",
         13.0863,
         34.99,
         "N/A",
         0.0,
         35,
         33,
         "01/07/2005",
         "08/04/2025",
         "11/03/2008",
         7221
        ],
        [
         708,
         "Sport-100 Helmet, Black",
         "HL-U509",
         "Black",
         13.0863,
         34.99,
         "N/A",
         0.0,
         35,
         33,
         "01/07/2005",
         "08/04/2025",
         "11/03/2008",
         7221
        ],
        [
         709,
         "Mountain Bike Socks, M",
         "SO-B909-M",
         "White",
         3.3963,
         9.5,
         "M",
         0.0,
         27,
         18,
         "01/07/2005",
         "30/06/2006",
         "11/03/2008",
         364
        ]
       ],
       "datasetInfos": [],
       "dbfsResultPath": null,
       "isJsonSchema": true,
       "metadata": {},
       "overflow": false,
       "plotOptions": {
        "customPlotOptions": {},
        "displayType": "table",
        "pivotAggregation": null,
        "pivotColumns": null,
        "xColumns": null,
        "yColumns": null
       },
       "removedWidgets": [],
       "schema": [
        {
         "metadata": "{}",
         "name": "ProductID",
         "type": "\"integer\""
        },
        {
         "metadata": "{}",
         "name": "Name",
         "type": "\"string\""
        },
        {
         "metadata": "{}",
         "name": "ProductNumber",
         "type": "\"string\""
        },
        {
         "metadata": "{}",
         "name": "Color",
         "type": "\"string\""
        },
        {
         "metadata": "{}",
         "name": "StandardCost",
         "type": "\"double\""
        },
        {
         "metadata": "{}",
         "name": "ListPrice",
         "type": "\"double\""
        },
        {
         "metadata": "{}",
         "name": "Size",
         "type": "\"string\""
        },
        {
         "metadata": "{}",
         "name": "Weight",
         "type": "\"double\""
        },
        {
         "metadata": "{}",
         "name": "ProductCategoryID",
         "type": "\"integer\""
        },
        {
         "metadata": "{}",
         "name": "ProductModelID",
         "type": "\"integer\""
        },
        {
         "metadata": "{}",
         "name": "SellStartDate",
         "type": "\"string\""
        },
        {
         "metadata": "{}",
         "name": "SellEndDate",
         "type": "\"string\""
        },
        {
         "metadata": "{}",
         "name": "modifiedDate",
         "type": "\"string\""
        },
        {
         "metadata": "{}",
         "name": "SellDuration",
         "type": "\"integer\""
        }
       ],
       "type": "table"
      }
     },
     "output_type": "display_data"
    }
   ],
   "source": [
    "df_prod = df_prod.fillna('N/A', subset=['Color', 'Size'])\\\n",
    "                .fillna(0, subset=['Weight'])\n",
    "df_prod.limit(5).display()"
   ]
  },
  {
   "cell_type": "markdown",
   "metadata": {
    "application/vnd.databricks.v1+cell": {
     "cellMetadata": {
      "byteLimit": 2048000,
      "rowLimit": 10000
     },
     "inputWidgets": {},
     "nuid": "cfd8cf84-6402-4723-addd-b1cd93f08041",
     "showTitle": false,
     "tableResultSettingsMap": {},
     "title": ""
    }
   },
   "source": [
    "#### Check Null Values"
   ]
  },
  {
   "cell_type": "code",
   "execution_count": 0,
   "metadata": {
    "application/vnd.databricks.v1+cell": {
     "cellMetadata": {
      "byteLimit": 2048000,
      "rowLimit": 10000
     },
     "inputWidgets": {},
     "nuid": "8e601a98-9581-4ca9-8a4c-d00a71902b2d",
     "showTitle": false,
     "tableResultSettingsMap": {},
     "title": ""
    }
   },
   "outputs": [
    {
     "output_type": "display_data",
     "data": {
      "text/html": [
       "<style scoped>\n",
       "  .table-result-container {\n",
       "    max-height: 300px;\n",
       "    overflow: auto;\n",
       "  }\n",
       "  table, th, td {\n",
       "    border: 1px solid black;\n",
       "    border-collapse: collapse;\n",
       "  }\n",
       "  th, td {\n",
       "    padding: 5px;\n",
       "  }\n",
       "  th {\n",
       "    text-align: left;\n",
       "  }\n",
       "</style><div class='table-result-container'><table class='table-result'><thead style='background-color: white'><tr><th>ProductID</th><th>Name</th><th>ProductNumber</th><th>Color</th><th>StandardCost</th><th>ListPrice</th><th>Size</th><th>Weight</th><th>ProductCategoryID</th><th>ProductModelID</th><th>SellStartDate</th><th>SellEndDate</th><th>modifiedDate</th><th>SellDuration</th></tr></thead><tbody><tr><td>0</td><td>0</td><td>0</td><td>0</td><td>0</td><td>0</td><td>0</td><td>0</td><td>0</td><td>0</td><td>0</td><td>0</td><td>0</td><td>0</td></tr></tbody></table></div>"
      ]
     },
     "metadata": {
      "application/vnd.databricks.v1+output": {
       "addedWidgets": {},
       "aggData": [],
       "aggError": "",
       "aggOverflow": false,
       "aggSchema": [],
       "aggSeriesLimitReached": false,
       "aggType": "",
       "arguments": {},
       "columnCustomDisplayInfos": {},
       "data": [
        [
         0,
         0,
         0,
         0,
         0,
         0,
         0,
         0,
         0,
         0,
         0,
         0,
         0,
         0
        ]
       ],
       "datasetInfos": [],
       "dbfsResultPath": null,
       "isJsonSchema": true,
       "metadata": {},
       "overflow": false,
       "plotOptions": {
        "customPlotOptions": {},
        "displayType": "table",
        "pivotAggregation": null,
        "pivotColumns": null,
        "xColumns": null,
        "yColumns": null
       },
       "removedWidgets": [],
       "schema": [
        {
         "metadata": "{}",
         "name": "ProductID",
         "type": "\"long\""
        },
        {
         "metadata": "{}",
         "name": "Name",
         "type": "\"long\""
        },
        {
         "metadata": "{}",
         "name": "ProductNumber",
         "type": "\"long\""
        },
        {
         "metadata": "{}",
         "name": "Color",
         "type": "\"long\""
        },
        {
         "metadata": "{}",
         "name": "StandardCost",
         "type": "\"long\""
        },
        {
         "metadata": "{}",
         "name": "ListPrice",
         "type": "\"long\""
        },
        {
         "metadata": "{}",
         "name": "Size",
         "type": "\"long\""
        },
        {
         "metadata": "{}",
         "name": "Weight",
         "type": "\"long\""
        },
        {
         "metadata": "{}",
         "name": "ProductCategoryID",
         "type": "\"long\""
        },
        {
         "metadata": "{}",
         "name": "ProductModelID",
         "type": "\"long\""
        },
        {
         "metadata": "{}",
         "name": "SellStartDate",
         "type": "\"long\""
        },
        {
         "metadata": "{}",
         "name": "SellEndDate",
         "type": "\"long\""
        },
        {
         "metadata": "{}",
         "name": "modifiedDate",
         "type": "\"long\""
        },
        {
         "metadata": "{}",
         "name": "SellDuration",
         "type": "\"long\""
        }
       ],
       "type": "table"
      }
     },
     "output_type": "display_data"
    }
   ],
   "source": [
    "df_prod.select([\n",
    "    sum(col(c).isNull().cast('int')).alias(c) for c in df_prod.columns\n",
    "]).limit(5).display()"
   ]
  },
  {
   "cell_type": "markdown",
   "metadata": {
    "application/vnd.databricks.v1+cell": {
     "cellMetadata": {
      "byteLimit": 2048000,
      "rowLimit": 10000
     },
     "inputWidgets": {},
     "nuid": "609ad5aa-7cf4-4bcb-a8e7-ea52eb94e77a",
     "showTitle": false,
     "tableResultSettingsMap": {},
     "title": ""
    }
   },
   "source": [
    "#### Write File to Silver Container"
   ]
  },
  {
   "cell_type": "code",
   "execution_count": 0,
   "metadata": {
    "application/vnd.databricks.v1+cell": {
     "cellMetadata": {
      "byteLimit": 2048000,
      "rowLimit": 10000
     },
     "inputWidgets": {},
     "nuid": "a1f8f63a-46dd-4c99-86a7-be4c0f471c46",
     "showTitle": false,
     "tableResultSettingsMap": {},
     "title": ""
    }
   },
   "outputs": [],
   "source": [
    "df_prod.write.format('delta').mode('overwrite').option('path', 'abfss://silver@dlpracticenajeeb.dfs.core.windows.net/Product').save()"
   ]
  },
  {
   "cell_type": "code",
   "execution_count": 0,
   "metadata": {
    "application/vnd.databricks.v1+cell": {
     "cellMetadata": {
      "byteLimit": 2048000,
      "rowLimit": 10000
     },
     "inputWidgets": {},
     "nuid": "5b580afb-fbc8-4719-aebb-fc8e44523272",
     "showTitle": false,
     "tableResultSettingsMap": {},
     "title": ""
    }
   },
   "outputs": [],
   "source": []
  }
 ],
 "metadata": {
  "application/vnd.databricks.v1+notebook": {
   "computePreferences": null,
   "dashboards": [],
   "environmentMetadata": {
    "base_environment": "",
    "environment_version": "2"
   },
   "inputWidgetPreferences": null,
   "language": "python",
   "notebookMetadata": {
    "pythonIndentUnit": 4
   },
   "notebookName": "AdventureWorks",
   "widgets": {}
  },
  "language_info": {
   "name": "python"
  }
 },
 "nbformat": 4,
 "nbformat_minor": 0
}